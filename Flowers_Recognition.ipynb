{
  "nbformat": 4,
  "nbformat_minor": 0,
  "metadata": {
    "colab": {
      "name": "Flowers Recognition.ipynb",
      "provenance": [],
      "collapsed_sections": [],
      "authorship_tag": "ABX9TyM2mR92+WwWIQjzhByTHlYd",
      "include_colab_link": true
    },
    "kernelspec": {
      "display_name": "Python 3",
      "name": "python3"
    },
    "language_info": {
      "name": "python"
    }
  },
  "cells": [
    {
      "cell_type": "markdown",
      "metadata": {
        "id": "view-in-github",
        "colab_type": "text"
      },
      "source": [
        "<a href=\"https://colab.research.google.com/github/SimraRafiq/Deep_Learning-assignment/blob/main/Flowers_Recognition.ipynb\" target=\"_parent\"><img src=\"https://colab.research.google.com/assets/colab-badge.svg\" alt=\"Open In Colab\"/></a>"
      ]
    },
    {
      "cell_type": "code",
      "metadata": {
        "colab": {
          "base_uri": "https://localhost:8080/"
        },
        "id": "stvAnO6HxLqN",
        "outputId": "58fd4c23-6791-40a4-d2be-52327e887b24"
      },
      "source": [
        "from google.colab import drive\n",
        "drive.mount('/content/drive')"
      ],
      "execution_count": null,
      "outputs": [
        {
          "output_type": "stream",
          "text": [
            "Mounted at /content/drive\n"
          ],
          "name": "stdout"
        }
      ]
    },
    {
      "cell_type": "code",
      "metadata": {
        "colab": {
          "base_uri": "https://localhost:8080/"
        },
        "id": "Z3S3FxcbxyTw",
        "outputId": "7140ccda-ed63-441d-c7ac-523eb6bab5e6"
      },
      "source": [
        "import pathlib\n",
        "import cv2\n",
        "directory = pathlib.Path(r\"/content/drive/MyDrive/archive/flowers\")\n",
        "flowers = []\n",
        "features = []\n",
        "labels = []\n",
        "# Iterating Over Directory To Extract Sub Directories\n",
        "for dir in directory.iterdir():\n",
        "  flowers.append(dir.name)\n",
        "  print(dir.name)\n",
        "# Iterating Over Sub Directories To Extract Lables\n",
        "  for imgpath in dir.iterdir():\n",
        "    if imgpath.name.endswith(\"jpg\"):\n",
        "      labels.append(dir.name)\n",
        "      #imgarr = cv2.imread(str(imgpath), cv2.IMREAD_GRAYSCALE)\n",
        "      imgarr = cv2.resize(imgarr,(800,800))\n",
        "      features.append(imgarr)"
      ],
      "execution_count": 42,
      "outputs": [
        {
          "output_type": "stream",
          "text": [
            "tulip\n",
            "flowers\n",
            "sunflower\n",
            "dandelion\n",
            "rose\n",
            "daisy\n"
          ],
          "name": "stdout"
        }
      ]
    },
    {
      "cell_type": "code",
      "metadata": {
        "id": "mJN01bW65EFh",
        "colab": {
          "base_uri": "https://localhost:8080/"
        },
        "outputId": "3512fe66-432d-4583-ebbf-46a2cf9431aa"
      },
      "source": [
        "imgarr.shape"
      ],
      "execution_count": 43,
      "outputs": [
        {
          "output_type": "execute_result",
          "data": {
            "text/plain": [
              "(800, 800)"
            ]
          },
          "metadata": {
            "tags": []
          },
          "execution_count": 43
        }
      ]
    },
    {
      "cell_type": "code",
      "metadata": {
        "id": "iOSNVGLJ5lbH",
        "colab": {
          "base_uri": "https://localhost:8080/"
        },
        "outputId": "b83b10d0-83ab-4cd2-e139-3d3ac41322ca"
      },
      "source": [
        "print(imgarr)"
      ],
      "execution_count": 44,
      "outputs": [
        {
          "output_type": "stream",
          "text": [
            "[[191 191 191 ... 189 189 189]\n",
            " [191 191 191 ... 189 189 189]\n",
            " [191 191 191 ... 189 189 189]\n",
            " ...\n",
            " [194 194 194 ...  46  26  26]\n",
            " [194 194 194 ...  46  26  26]\n",
            " [194 194 194 ...  46  26  26]]\n"
          ],
          "name": "stdout"
        }
      ]
    },
    {
      "cell_type": "code",
      "metadata": {
        "colab": {
          "base_uri": "https://localhost:8080/"
        },
        "id": "43k4Yq5TVHd_",
        "outputId": "a0c5d470-d041-459a-b5ae-60b51e45ddf0"
      },
      "source": [
        "type(imgarr)"
      ],
      "execution_count": 45,
      "outputs": [
        {
          "output_type": "execute_result",
          "data": {
            "text/plain": [
              "numpy.ndarray"
            ]
          },
          "metadata": {
            "tags": []
          },
          "execution_count": 45
        }
      ]
    },
    {
      "cell_type": "code",
      "metadata": {
        "colab": {
          "base_uri": "https://localhost:8080/"
        },
        "id": "DbV3MHYYvtvJ",
        "outputId": "f960d94c-f5b4-469d-eecc-b208b9eef346"
      },
      "source": [
        "len(imgarr)\n"
      ],
      "execution_count": 46,
      "outputs": [
        {
          "output_type": "execute_result",
          "data": {
            "text/plain": [
              "800"
            ]
          },
          "metadata": {
            "tags": []
          },
          "execution_count": 46
        }
      ]
    },
    {
      "cell_type": "code",
      "metadata": {
        "colab": {
          "base_uri": "https://localhost:8080/",
          "height": 456
        },
        "id": "5MPz7eld-idl",
        "outputId": "eab2e9fa-b024-44e2-999a-9aff765e5a31"
      },
      "source": [
        "import matplotlib.pyplot as plt\n",
        "print(train_labels[0])\n",
        "plt.imshow(imgarr)"
      ],
      "execution_count": 71,
      "outputs": [
        {
          "output_type": "stream",
          "text": [
            "[0. 0. 0. 0. 0. 0. 0. 0. 0. 0. 0. 0. 0. 0. 0. 0. 0. 0. 0. 0. 0. 0. 0. 0.\n",
            " 0. 0. 0. 0. 0. 0. 0. 0. 0. 0. 0. 0. 0. 0. 0. 0. 0. 0. 1. 0. 0. 0. 0. 0.\n",
            " 0. 0. 0. 0. 0. 0. 0. 0. 0. 0. 0. 0. 0. 0. 0. 0. 0. 0. 0. 0. 0. 0. 0. 0.\n",
            " 0. 0. 0. 0. 0. 0. 0. 0. 0. 0. 0. 0. 0. 0. 0. 0. 0. 0. 0. 0. 0. 0. 0. 0.\n",
            " 0. 0. 0. 0. 0. 0. 0. 0. 0. 0. 0. 0. 0. 0. 0. 0. 0. 0. 0. 0. 0. 0. 0. 0.\n",
            " 0. 0. 0. 0. 0. 0. 0. 0. 0. 0. 0. 0. 0. 0. 0. 0. 0. 0. 0. 0. 0. 0. 0. 0.\n",
            " 0. 0. 0. 0. 0. 0. 0. 0. 0. 0. 0. 0. 0. 0. 0. 0. 0. 0. 0. 0. 0. 0. 0. 0.\n",
            " 0. 0. 0. 0. 0. 0. 0. 0. 0. 0. 0. 0. 0. 0. 0. 0. 0. 0. 0. 0. 0. 0. 0. 0.\n",
            " 0. 0. 0. 0. 0. 0. 0. 0. 0. 0. 0. 0. 0. 0. 0. 0. 0. 0. 0. 0. 0. 0. 0. 0.\n",
            " 0. 0. 0. 0. 0. 0. 0. 0. 0. 0.]\n"
          ],
          "name": "stdout"
        },
        {
          "output_type": "execute_result",
          "data": {
            "text/plain": [
              "<matplotlib.image.AxesImage at 0x7f50725db310>"
            ]
          },
          "metadata": {
            "tags": []
          },
          "execution_count": 71
        },
        {
          "output_type": "display_data",
          "data": {
            "image/png": "[encoded data removed]",
            "text/plain": [
              "<Figure size 432x288 with 1 Axes>"
            ]
          },
          "metadata": {
            "tags": [],
            "needs_background": "light"
          }
        }
      ]
    },
    {
      "cell_type": "code",
      "metadata": {
        "id": "IKdS8US2_12s"
      },
      "source": [
        "import pandas as pd\n",
        "import numpy as np\n",
        "import tensorflow as tf\n",
        "from tensorflow.keras import models\n",
        "from tensorflow.keras import layers\n",
        "from tensorflow.keras import optimizers"
      ],
      "execution_count": 72,
      "outputs": []
    },
    {
      "cell_type": "code",
      "metadata": {
        "id": "XKvgLDO4YJws"
      },
      "source": [
        "x=imgarr[:,0:-1]\n",
        "y=imgarr[:,-1]\n"
      ],
      "execution_count": 54,
      "outputs": []
    },
    {
      "cell_type": "code",
      "metadata": {
        "id": "3Yg7syitUFjk"
      },
      "source": [
        "from sklearn.model_selection import train_test_split\n",
        "train_img,test_img,train_labels,test_labels=train_test_split(x,y,test_size=0.40,random_state=1) "
      ],
      "execution_count": 55,
      "outputs": []
    },
    {
      "cell_type": "code",
      "metadata": {
        "colab": {
          "base_uri": "https://localhost:8080/"
        },
        "id": "kIChOTfQfDCu",
        "outputId": "3bb4d3bd-da70-4dff-df68-f29f830a0988"
      },
      "source": [
        "train_img.shape"
      ],
      "execution_count": 56,
      "outputs": [
        {
          "output_type": "execute_result",
          "data": {
            "text/plain": [
              "(480, 799)"
            ]
          },
          "metadata": {
            "tags": []
          },
          "execution_count": 56
        }
      ]
    },
    {
      "cell_type": "code",
      "metadata": {
        "colab": {
          "base_uri": "https://localhost:8080/"
        },
        "id": "i7WVnNy2fDGJ",
        "outputId": "9eaa82c4-78ba-4bbf-9f0b-557bdf4eeb6d"
      },
      "source": [
        "len(train_labels)"
      ],
      "execution_count": 57,
      "outputs": [
        {
          "output_type": "execute_result",
          "data": {
            "text/plain": [
              "480"
            ]
          },
          "metadata": {
            "tags": []
          },
          "execution_count": 57
        }
      ]
    },
    {
      "cell_type": "code",
      "metadata": {
        "colab": {
          "base_uri": "https://localhost:8080/"
        },
        "id": "LO_mJRAyfWNP",
        "outputId": "d9b87018-d579-4020-dbb6-4277b7ae1ba0"
      },
      "source": [
        "\n",
        "train_labels"
      ],
      "execution_count": 58,
      "outputs": [
        {
          "output_type": "execute_result",
          "data": {
            "text/plain": [
              "array([ 42,  38,  31, 194,  32,  30,  47, 190,  46,  31,  44, 185, 191,\n",
              "       190, 190, 189, 190,  32,  41,  44,  76,  31, 191,  23,  31, 193,\n",
              "       212,  48,  31,  30,  36,  45,  36,  37,  30,  44, 189,  91,  44,\n",
              "        46,  48, 198,  32,  44, 190,  29, 101, 194,  47,  38, 191,  59,\n",
              "        46,  27, 191, 192,  58,  27,  69, 200,  38,  48,  26, 127, 192,\n",
              "        45,  29,  37, 190,  33,  36, 188,  41,  62,  46,  32,  91,  30,\n",
              "        34, 191, 191, 189,  29, 114,  65, 191,  35, 191,  32, 160,  39,\n",
              "       189,  31,  32, 114, 219,  41,  41, 193,  32, 189,  32, 111,  15,\n",
              "       193,  47,  62,  31, 191,  65, 194,  45,  48, 191,  43,  81,  38,\n",
              "       189,  48,  52, 192,  34, 191,  28, 214, 194, 189, 197, 195,  86,\n",
              "        31,  33,  39, 194,  38,  33,  44,  80,  30,  16,  35,  37, 189,\n",
              "       194, 204,  43, 217,  87,  34,  50, 190, 190, 188,  34, 189, 190,\n",
              "       190,  31,  33,  24, 191, 194, 192, 197,  31,  41, 106,  25,  44,\n",
              "        35,  37,  47, 200,  45, 190,  40, 193,  45, 186,  46,  46,  68,\n",
              "        36, 193, 191,  66,  85,  45, 191,  46,  22, 191,  31,  37,  27,\n",
              "       191,  40, 189,  28,  80, 225, 183, 215,  31,  33,  45, 215,  49,\n",
              "        31,  27,  45, 163,  45, 191,  26,  59, 221, 193,  29,  46, 195,\n",
              "       127, 192,  32, 170,  31,  70, 202,  39, 190, 193, 191,  60,  41,\n",
              "        42, 202, 120,  93,  41, 193, 195,  44,  31,  28, 184, 194, 192,\n",
              "       193,  43,  79,  44,  45,  30, 191,  64,  43, 195,  12, 191,  89,\n",
              "        40,  37, 191,  25,  42,  26, 200,  40,  55,  66, 191, 189, 190,\n",
              "       194, 192,  37,  44,  20,  21, 190, 189, 192,  44, 192, 190,  87,\n",
              "       191,  48,  45, 191,  44,  49,  37,  56,  33, 191, 221,  31,  50,\n",
              "        46,  34,  19, 194,  47,  31, 216,  47, 100,  49, 191,  45,  86,\n",
              "       190, 211,  44, 195,  36, 193,  32,  36, 194,  43,  27,  40,  53,\n",
              "        71, 194, 184,  41,  49, 110,  46,  46,  32,  32,  35,  71,  40,\n",
              "       189, 188,  88,  35,  44, 163,  44, 193,  38,  42, 132,  22,  30,\n",
              "       191,  43,  45,  31,  39,  30, 139, 193, 217,  44,  55, 190,  47,\n",
              "       189,  74, 190, 195,  41,  40,  31,  31,  30,  27,  44, 191, 191,\n",
              "       185, 191,  28,  29,  27,  36,  52,  32, 200,  32,  48,  45, 190,\n",
              "        98, 101,  22,  39, 194, 189,  63,  52, 214,  89,  67, 192,  22,\n",
              "        39, 189,  35,  32,  74, 191,  49, 190,  20,  33,  78,  42,  31,\n",
              "       190, 172, 191, 189,  30,  88,  10,  44, 190,  29, 191,  35,  26,\n",
              "        47,  67,  28,  27, 191,  38,  28,  41, 217,  34,  67,  51, 174,\n",
              "       195,  49,  32,  54,  31,  50, 189,  27, 193, 190,  56,  49,  29,\n",
              "       193,  40,  62,  43,  34,  30, 200,  34,  35, 200,  64, 156,  77,\n",
              "        23,  46,  27,  31, 191, 192,  62,  48,  47, 191, 193, 190],\n",
              "      dtype=uint8)"
            ]
          },
          "metadata": {
            "tags": []
          },
          "execution_count": 58
        }
      ]
    },
    {
      "cell_type": "code",
      "metadata": {
        "colab": {
          "base_uri": "https://localhost:8080/"
        },
        "id": "ABf0a8c7fWQF",
        "outputId": "08a9811b-59b3-4cea-f332-2904ba81cbc3"
      },
      "source": [
        "test_img.shape"
      ],
      "execution_count": 59,
      "outputs": [
        {
          "output_type": "execute_result",
          "data": {
            "text/plain": [
              "(320, 799)"
            ]
          },
          "metadata": {
            "tags": []
          },
          "execution_count": 59
        }
      ]
    },
    {
      "cell_type": "code",
      "metadata": {
        "colab": {
          "base_uri": "https://localhost:8080/"
        },
        "id": "aMA2vcE4fWTP",
        "outputId": "cb6a5da0-4c8f-4968-e216-82052438971c"
      },
      "source": [
        "len(test_labels)"
      ],
      "execution_count": 60,
      "outputs": [
        {
          "output_type": "execute_result",
          "data": {
            "text/plain": [
              "320"
            ]
          },
          "metadata": {
            "tags": []
          },
          "execution_count": 60
        }
      ]
    },
    {
      "cell_type": "code",
      "metadata": {
        "colab": {
          "base_uri": "https://localhost:8080/"
        },
        "id": "8pg68qM8UFnB",
        "outputId": "cdfcc2dc-fa69-429b-f089-06f67606522b"
      },
      "source": [
        "train_img[4]"
      ],
      "execution_count": 61,
      "outputs": [
        {
          "output_type": "execute_result",
          "data": {
            "text/plain": [
              "array([194, 194, 194, 194, 194, 194, 193, 193, 193, 193, 193, 193, 193,\n",
              "       193, 193, 193, 193, 193, 193, 193, 193, 193, 193, 193, 193, 193,\n",
              "       192, 192, 192, 192, 192, 192, 192, 192, 192, 192, 192, 193, 193,\n",
              "       193, 193, 193, 193, 194, 194, 194, 194, 195, 195, 195, 195, 195,\n",
              "       195, 196, 196, 196, 196, 196, 196, 196, 196, 196, 196, 196, 196,\n",
              "       196, 196, 196, 196, 196, 196, 196, 196, 196, 196, 196, 196, 196,\n",
              "       196, 196, 196, 196, 196, 196, 197, 197, 196, 196, 196, 195, 194,\n",
              "       194, 194, 195, 195, 195, 196, 197, 197, 196, 196, 195, 194, 193,\n",
              "       192, 185, 171, 157, 143, 128, 113,  98,  95,  96,  96,  96,  98,\n",
              "        99, 100, 102, 104, 106, 104, 102, 100, 100, 102, 103, 104, 101,\n",
              "        99,  96,  97,  98,  99,  99,  98,  96,  95,  95,  95,  95,  96,\n",
              "        96,  97,  96,  95,  94,  93,  93,  92,  92,  92,  91,  91,  91,\n",
              "        90,  89,  88,  87,  86,  85,  86,  85,  85,  85,  85,  84,  84,\n",
              "        83,  83,  82,  81,  80,  79,  79,  78,  78,  77,  77,  78,  78,\n",
              "        78,  78,  79,  78,  78,  77,  76,  76,  75,  75,  74,  74,  73,\n",
              "        72,  72,  72,  71,  70,  68,  66,  64,  63,  61,  61,  61,  61,\n",
              "        60,  59,  58,  56,  55,  53,  52,  51,  52,  53,  54,  54,  54,\n",
              "        54,  53,  52,  51,  51,  51,  52,  52,  51,  51,  51,  50,  49,\n",
              "        48,  47,  47,  46,  46,  48,  49,  50,  51,  52,  53,  54,  54,\n",
              "        55,  55,  54,  53,  52,  52,  51,  50,  51,  51,  52,  53,  54,\n",
              "        56,  57,  58,  60,  60,  62,  63,  65,  66,  66,  66,  66,  66,\n",
              "        66,  67,  67,  68,  68,  68,  68,  68,  68,  68,  68,  67,  67,\n",
              "        66,  66,  66,  65,  65,  65,  65,  65,  65,  65,  67,  69,  70,\n",
              "        70,  70,  71,  70,  69,  69,  68,  68,  67,  67,  68,  68,  69,\n",
              "        69,  70,  70,  69,  69,  69,  69,  68,  68,  68,  67,  66,  66,\n",
              "        65,  64,  63,  61,  52,  43,  35,  31,  29,  27,  26,  25,  24,\n",
              "        23,  22,  20,  18,  17,  16,  15,  15,  17,  18,  20,  25,  30,\n",
              "        35,  41,  48,  55,  58,  57,  56,  54,  53,  51,  49,  52,  57,\n",
              "        61,  64,  67,  70,  74,  89, 103, 118, 129, 139, 149, 159, 169,\n",
              "       179, 189, 194, 200, 205, 208, 211, 214, 214, 210, 207, 205, 206,\n",
              "       206, 207, 207, 206, 206, 205, 203, 201, 200, 203, 205, 207, 207,\n",
              "       207, 206, 206, 206, 206, 205, 202, 200, 197, 197, 198, 199, 201,\n",
              "       205, 208, 210, 201, 192, 183, 163, 141, 120, 112, 118, 124, 129,\n",
              "       127, 125, 123, 123, 123, 123, 123, 124, 124, 124, 123, 123, 122,\n",
              "       123, 124, 125, 127, 128, 130, 131, 130, 129, 128, 126, 124, 121,\n",
              "       119, 116, 114, 112, 112, 112, 112, 113, 115, 116, 118, 119, 120,\n",
              "       122, 123, 124, 125, 124, 122, 119, 116, 112, 107, 102,  93,  84,\n",
              "        75,  80,  87,  94, 104, 118, 131, 145, 164, 183, 203, 205, 203,\n",
              "       202, 201, 202, 203, 203, 201, 200, 198, 199, 201, 203, 203, 202,\n",
              "       201, 200, 201, 201, 201, 201, 200, 200, 200, 200, 199, 199, 199,\n",
              "       200, 201, 201, 202, 202, 202, 202, 202, 202, 201, 201, 200, 201,\n",
              "       202, 204, 204, 204, 204, 204, 206, 209, 212, 211, 209, 207, 206,\n",
              "       207, 207, 208, 210, 213, 215, 209, 201, 194, 166, 118,  70,  31,\n",
              "        38,  45,  52,  53,  52,  52,  52,  52,  52,  52,  53,  54,  55,\n",
              "        58,  61,  64,  66,  65,  65,  65,  65,  65,  65,  66,  66,  67,\n",
              "        66,  65,  64,  62,  58,  54,  51,  49,  48,  47,  45,  43,  41,\n",
              "        39,  39,  39,  39,  44,  50,  57,  57,  52,  47,  42,  37,  33,\n",
              "        29,  28,  28,  29,  28,  28,  27,  27,  28,  30,  31,  33,  34,\n",
              "        36,  36,  35,  34,  34,  33,  33,  33,  33,  35,  36,  37,  38,\n",
              "        39,  41,  42,  43,  45,  43,  42,  39,  60, 102, 144, 182, 194,\n",
              "       207, 220, 220, 218, 215, 214, 213, 213, 212, 213, 214, 215, 215,\n",
              "       216, 216, 216, 215, 215, 214, 215, 216, 217, 217, 217, 216, 212,\n",
              "       205, 198, 188, 163, 139, 114,  94,  75,  56,  45,  43,  41,  39,\n",
              "        38,  37,  36,  37,  38,  39,  39,  37,  36,  35,  37,  39,  41,\n",
              "        36,  28,  21,  19,  21,  24,  27,  27,  27,  28,  27,  27,  26,\n",
              "        27,  27,  28,  29,  28,  27,  27,  27,  28,  29,  33,  39,  45,\n",
              "        49,  43,  37,  31,  31,  34,  36,  38,  42,  45,  51,  67,  84,\n",
              "       101, 125, 150, 176, 179, 159, 139, 118,  89,  60,  31,  31,  38,\n",
              "        44,  48,  49,  50,  49,  39,  29,  19,  23,  28,  34,  36,  35,\n",
              "        34,  33,  33,  33,  33,  32,  32,  31,  30,  30,  29,  29,  29,\n",
              "        29,  29,  30,  30,  31,  31,  31,  31,  30,  31,  32,  33,  33,\n",
              "        34,  35,  34,  33,  33,  32], dtype=uint8)"
            ]
          },
          "metadata": {
            "tags": []
          },
          "execution_count": 61
        }
      ]
    },
    {
      "cell_type": "code",
      "metadata": {
        "colab": {
          "base_uri": "https://localhost:8080/"
        },
        "id": "KoJarkckUFp7",
        "outputId": "f009578e-22eb-43d5-91a6-7e5b91f051d8"
      },
      "source": [
        "\n",
        "test_labels[7]"
      ],
      "execution_count": 62,
      "outputs": [
        {
          "output_type": "execute_result",
          "data": {
            "text/plain": [
              "216"
            ]
          },
          "metadata": {
            "tags": []
          },
          "execution_count": 62
        }
      ]
    },
    {
      "cell_type": "code",
      "metadata": {
        "id": "mojBsDpUUFsl"
      },
      "source": [
        "from keras.utils import to_categorical\n",
        "train_labels=to_categorical(train_labels)\n",
        "test_labels=to_categorical(test_labels)"
      ],
      "execution_count": 63,
      "outputs": []
    },
    {
      "cell_type": "code",
      "metadata": {
        "id": "JTjkmWXabM8p"
      },
      "source": [
        "\n",
        "network =models.Sequential()\n",
        "network.add(layers.Dense(10,activation=\"relu\",input_shape=(train_img.shape[1],)))  \n",
        "network.add(layers.Dense(8,activation='relu'))\n",
        "network.add(layers.Dense(6,activation=\"softmax\"))"
      ],
      "execution_count": 66,
      "outputs": []
    },
    {
      "cell_type": "code",
      "metadata": {
        "id": "HnqRN4LzbNAk"
      },
      "source": [
        "\n",
        "\n",
        "network.compile(loss='categorical_crossentropy',optimizer=\"rmsprop\",metrics=['accuracy']) "
      ],
      "execution_count": 68,
      "outputs": []
    },
    {
      "cell_type": "code",
      "metadata": {
        "id": "6uqV2hLibNIK"
      },
      "source": [
        "network.fit(train_img,train_labels,epochs=50)\n"
      ],
      "execution_count": 69,
      "outputs": []
    },
    {
      "cell_type": "code",
      "metadata": {
        "id": "WAxl-ydn96u8"
      },
      "source": [
        ""
      ],
      "execution_count": null,
      "outputs": []
    }
  ]
}