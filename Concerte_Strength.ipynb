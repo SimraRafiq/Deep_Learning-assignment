{
  "nbformat": 4,
  "nbformat_minor": 0,
  "metadata": {
    "colab": {
      "name": "Concerte Strength.ipynb",
      "provenance": [],
      "collapsed_sections": [],
      "authorship_tag": "ABX9TyPiJ/WueksxFZTbnC4T76n7",
      "include_colab_link": true
    },
    "kernelspec": {
      "name": "python3",
      "display_name": "Python 3"
    },
    "language_info": {
      "name": "python"
    }
  },
  "cells": [
    {
      "cell_type": "markdown",
      "metadata": {
        "id": "view-in-github",
        "colab_type": "text"
      },
      "source": [
        "<a href=\"https://colab.research.google.com/github/SimraRafiq/Deep_Learning-assignment/blob/main/Concerte_Strength.ipynb\" target=\"_parent\"><img src=\"https://colab.research.google.com/assets/colab-badge.svg\" alt=\"Open In Colab\"/></a>"
      ]
    },
    {
      "cell_type": "code",
      "metadata": {
        "id": "XWvK4tK3St2I"
      },
      "source": [
        "import pandas as pd\n",
        "import numpy as np\n",
        "import tensorflow as tf\n",
        "from tensorflow.keras import models\n",
        "from tensorflow.keras import layers\n",
        "from tensorflow.keras import optimizers"
      ],
      "execution_count": null,
      "outputs": []
    },
    {
      "cell_type": "code",
      "metadata": {
        "colab": {
          "base_uri": "https://localhost:8080/",
          "height": 289
        },
        "id": "oiE5Er0sTQ5V",
        "outputId": "e2760a76-54d4-477a-da72-17b1ffa35b68"
      },
      "source": [
        "data=pd.read_csv(\"compresive_strength_concrete.csv\")\n",
        "display(data.head(n=5))"
      ],
      "execution_count": null,
      "outputs": [
        {
          "output_type": "display_data",
          "data": {
            "text/html": [
              "<div>\n",
              "<style scoped>\n",
              "    .dataframe tbody tr th:only-of-type {\n",
              "        vertical-align: middle;\n",
              "    }\n",
              "\n",
              "    .dataframe tbody tr th {\n",
              "        vertical-align: top;\n",
              "    }\n",
              "\n",
              "    .dataframe thead th {\n",
              "        text-align: right;\n",
              "    }\n",
              "</style>\n",
              "<table border=\"1\" class=\"dataframe\">\n",
              "  <thead>\n",
              "    <tr style=\"text-align: right;\">\n",
              "      <th></th>\n",
              "      <th>Cement (component 1)(kg in a m^3 mixture)</th>\n",
              "      <th>Blast Furnace Slag (component 2)(kg in a m^3 mixture)</th>\n",
              "      <th>Fly Ash (component 3)(kg in a m^3 mixture)</th>\n",
              "      <th>Water  (component 4)(kg in a m^3 mixture)</th>\n",
              "      <th>Superplasticizer (component 5)(kg in a m^3 mixture)</th>\n",
              "      <th>Coarse Aggregate  (component 6)(kg in a m^3 mixture)</th>\n",
              "      <th>Fine Aggregate (component 7)(kg in a m^3 mixture)</th>\n",
              "      <th>Age (day)</th>\n",
              "      <th>Concrete compressive strength(MPa, megapascals)</th>\n",
              "    </tr>\n",
              "  </thead>\n",
              "  <tbody>\n",
              "    <tr>\n",
              "      <th>0</th>\n",
              "      <td>540.0</td>\n",
              "      <td>0.0</td>\n",
              "      <td>0.0</td>\n",
              "      <td>162.0</td>\n",
              "      <td>2.5</td>\n",
              "      <td>1040.0</td>\n",
              "      <td>676.0</td>\n",
              "      <td>28</td>\n",
              "      <td>79.99</td>\n",
              "    </tr>\n",
              "    <tr>\n",
              "      <th>1</th>\n",
              "      <td>540.0</td>\n",
              "      <td>0.0</td>\n",
              "      <td>0.0</td>\n",
              "      <td>162.0</td>\n",
              "      <td>2.5</td>\n",
              "      <td>1055.0</td>\n",
              "      <td>676.0</td>\n",
              "      <td>28</td>\n",
              "      <td>61.89</td>\n",
              "    </tr>\n",
              "    <tr>\n",
              "      <th>2</th>\n",
              "      <td>332.5</td>\n",
              "      <td>142.5</td>\n",
              "      <td>0.0</td>\n",
              "      <td>228.0</td>\n",
              "      <td>0.0</td>\n",
              "      <td>932.0</td>\n",
              "      <td>594.0</td>\n",
              "      <td>270</td>\n",
              "      <td>40.27</td>\n",
              "    </tr>\n",
              "    <tr>\n",
              "      <th>3</th>\n",
              "      <td>332.5</td>\n",
              "      <td>142.5</td>\n",
              "      <td>0.0</td>\n",
              "      <td>228.0</td>\n",
              "      <td>0.0</td>\n",
              "      <td>932.0</td>\n",
              "      <td>594.0</td>\n",
              "      <td>365</td>\n",
              "      <td>41.05</td>\n",
              "    </tr>\n",
              "    <tr>\n",
              "      <th>4</th>\n",
              "      <td>198.6</td>\n",
              "      <td>132.4</td>\n",
              "      <td>0.0</td>\n",
              "      <td>192.0</td>\n",
              "      <td>0.0</td>\n",
              "      <td>978.4</td>\n",
              "      <td>825.5</td>\n",
              "      <td>360</td>\n",
              "      <td>44.30</td>\n",
              "    </tr>\n",
              "  </tbody>\n",
              "</table>\n",
              "</div>"
            ],
            "text/plain": [
              "   Cement (component 1)(kg in a m^3 mixture)  ...  Concrete compressive strength(MPa, megapascals) \n",
              "0                                      540.0  ...                                             79.99\n",
              "1                                      540.0  ...                                             61.89\n",
              "2                                      332.5  ...                                             40.27\n",
              "3                                      332.5  ...                                             41.05\n",
              "4                                      198.6  ...                                             44.30\n",
              "\n",
              "[5 rows x 9 columns]"
            ]
          },
          "metadata": {
            "tags": []
          }
        }
      ]
    },
    {
      "cell_type": "code",
      "metadata": {
        "colab": {
          "base_uri": "https://localhost:8080/"
        },
        "id": "l79yAT2VT7AZ",
        "outputId": "3ef8a859-77f4-4496-e424-b98caaae8857"
      },
      "source": [
        "data.shape"
      ],
      "execution_count": null,
      "outputs": [
        {
          "output_type": "execute_result",
          "data": {
            "text/plain": [
              "(1030, 9)"
            ]
          },
          "metadata": {
            "tags": []
          },
          "execution_count": 4
        }
      ]
    },
    {
      "cell_type": "code",
      "metadata": {
        "colab": {
          "base_uri": "https://localhost:8080/"
        },
        "id": "eh-Pkuy2UaN5",
        "outputId": "d41b0eb6-8f86-4f66-e412-1997798bfe90"
      },
      "source": [
        "data.ndim"
      ],
      "execution_count": null,
      "outputs": [
        {
          "output_type": "execute_result",
          "data": {
            "text/plain": [
              "2"
            ]
          },
          "metadata": {
            "tags": []
          },
          "execution_count": 5
        }
      ]
    },
    {
      "cell_type": "code",
      "metadata": {
        "colab": {
          "base_uri": "https://localhost:8080/"
        },
        "id": "OmfTmiVzUdTf",
        "outputId": "8220ee32-60ad-4c31-da95-5e809f7edd8e"
      },
      "source": [
        "data.iloc[4]"
      ],
      "execution_count": null,
      "outputs": [
        {
          "output_type": "execute_result",
          "data": {
            "text/plain": [
              "Cement (component 1)(kg in a m^3 mixture)                198.6\n",
              "Blast Furnace Slag (component 2)(kg in a m^3 mixture)    132.4\n",
              "Fly Ash (component 3)(kg in a m^3 mixture)                 0.0\n",
              "Water  (component 4)(kg in a m^3 mixture)                192.0\n",
              "Superplasticizer (component 5)(kg in a m^3 mixture)        0.0\n",
              "Coarse Aggregate  (component 6)(kg in a m^3 mixture)     978.4\n",
              "Fine Aggregate (component 7)(kg in a m^3 mixture)        825.5\n",
              "Age (day)                                                360.0\n",
              "Concrete compressive strength(MPa, megapascals)           44.3\n",
              "Name: 4, dtype: float64"
            ]
          },
          "metadata": {
            "tags": []
          },
          "execution_count": 6
        }
      ]
    },
    {
      "cell_type": "code",
      "metadata": {
        "colab": {
          "base_uri": "https://localhost:8080/"
        },
        "id": "JCKiA1nTUff_",
        "outputId": "48d51e02-02c6-488d-b708-cc8063899ee4"
      },
      "source": [
        "data.info()"
      ],
      "execution_count": null,
      "outputs": [
        {
          "output_type": "stream",
          "text": [
            "<class 'pandas.core.frame.DataFrame'>\n",
            "RangeIndex: 1030 entries, 0 to 1029\n",
            "Data columns (total 9 columns):\n",
            " #   Column                                                 Non-Null Count  Dtype  \n",
            "---  ------                                                 --------------  -----  \n",
            " 0   Cement (component 1)(kg in a m^3 mixture)              1030 non-null   float64\n",
            " 1   Blast Furnace Slag (component 2)(kg in a m^3 mixture)  1030 non-null   float64\n",
            " 2   Fly Ash (component 3)(kg in a m^3 mixture)             1030 non-null   float64\n",
            " 3   Water  (component 4)(kg in a m^3 mixture)              1030 non-null   float64\n",
            " 4   Superplasticizer (component 5)(kg in a m^3 mixture)    1030 non-null   float64\n",
            " 5   Coarse Aggregate  (component 6)(kg in a m^3 mixture)   1030 non-null   float64\n",
            " 6   Fine Aggregate (component 7)(kg in a m^3 mixture)      1030 non-null   float64\n",
            " 7   Age (day)                                              1030 non-null   int64  \n",
            " 8   Concrete compressive strength(MPa, megapascals)        1030 non-null   float64\n",
            "dtypes: float64(8), int64(1)\n",
            "memory usage: 72.5 KB\n"
          ],
          "name": "stdout"
        }
      ]
    },
    {
      "cell_type": "code",
      "metadata": {
        "colab": {
          "base_uri": "https://localhost:8080/"
        },
        "id": "EBJ8LXo3Uz_h",
        "outputId": "6a8f0a7b-9f46-40de-ae61-04ee5b7cefbd"
      },
      "source": [
        "pd.isnull(data).sum()"
      ],
      "execution_count": null,
      "outputs": [
        {
          "output_type": "execute_result",
          "data": {
            "text/plain": [
              "Cement (component 1)(kg in a m^3 mixture)                0\n",
              "Blast Furnace Slag (component 2)(kg in a m^3 mixture)    0\n",
              "Fly Ash (component 3)(kg in a m^3 mixture)               0\n",
              "Water  (component 4)(kg in a m^3 mixture)                0\n",
              "Superplasticizer (component 5)(kg in a m^3 mixture)      0\n",
              "Coarse Aggregate  (component 6)(kg in a m^3 mixture)     0\n",
              "Fine Aggregate (component 7)(kg in a m^3 mixture)        0\n",
              "Age (day)                                                0\n",
              "Concrete compressive strength(MPa, megapascals)          0\n",
              "dtype: int64"
            ]
          },
          "metadata": {
            "tags": []
          },
          "execution_count": 8
        }
      ]
    },
    {
      "cell_type": "code",
      "metadata": {
        "colab": {
          "base_uri": "https://localhost:8080/",
          "height": 504
        },
        "id": "hepLcehHU7OX",
        "outputId": "2e15c908-4d99-4911-d169-00953948263c"
      },
      "source": [
        "pd.isnull(data)"
      ],
      "execution_count": null,
      "outputs": [
        {
          "output_type": "execute_result",
          "data": {
            "text/html": [
              "<div>\n",
              "<style scoped>\n",
              "    .dataframe tbody tr th:only-of-type {\n",
              "        vertical-align: middle;\n",
              "    }\n",
              "\n",
              "    .dataframe tbody tr th {\n",
              "        vertical-align: top;\n",
              "    }\n",
              "\n",
              "    .dataframe thead th {\n",
              "        text-align: right;\n",
              "    }\n",
              "</style>\n",
              "<table border=\"1\" class=\"dataframe\">\n",
              "  <thead>\n",
              "    <tr style=\"text-align: right;\">\n",
              "      <th></th>\n",
              "      <th>Cement (component 1)(kg in a m^3 mixture)</th>\n",
              "      <th>Blast Furnace Slag (component 2)(kg in a m^3 mixture)</th>\n",
              "      <th>Fly Ash (component 3)(kg in a m^3 mixture)</th>\n",
              "      <th>Water  (component 4)(kg in a m^3 mixture)</th>\n",
              "      <th>Superplasticizer (component 5)(kg in a m^3 mixture)</th>\n",
              "      <th>Coarse Aggregate  (component 6)(kg in a m^3 mixture)</th>\n",
              "      <th>Fine Aggregate (component 7)(kg in a m^3 mixture)</th>\n",
              "      <th>Age (day)</th>\n",
              "      <th>Concrete compressive strength(MPa, megapascals)</th>\n",
              "    </tr>\n",
              "  </thead>\n",
              "  <tbody>\n",
              "    <tr>\n",
              "      <th>0</th>\n",
              "      <td>False</td>\n",
              "      <td>False</td>\n",
              "      <td>False</td>\n",
              "      <td>False</td>\n",
              "      <td>False</td>\n",
              "      <td>False</td>\n",
              "      <td>False</td>\n",
              "      <td>False</td>\n",
              "      <td>False</td>\n",
              "    </tr>\n",
              "    <tr>\n",
              "      <th>1</th>\n",
              "      <td>False</td>\n",
              "      <td>False</td>\n",
              "      <td>False</td>\n",
              "      <td>False</td>\n",
              "      <td>False</td>\n",
              "      <td>False</td>\n",
              "      <td>False</td>\n",
              "      <td>False</td>\n",
              "      <td>False</td>\n",
              "    </tr>\n",
              "    <tr>\n",
              "      <th>2</th>\n",
              "      <td>False</td>\n",
              "      <td>False</td>\n",
              "      <td>False</td>\n",
              "      <td>False</td>\n",
              "      <td>False</td>\n",
              "      <td>False</td>\n",
              "      <td>False</td>\n",
              "      <td>False</td>\n",
              "      <td>False</td>\n",
              "    </tr>\n",
              "    <tr>\n",
              "      <th>3</th>\n",
              "      <td>False</td>\n",
              "      <td>False</td>\n",
              "      <td>False</td>\n",
              "      <td>False</td>\n",
              "      <td>False</td>\n",
              "      <td>False</td>\n",
              "      <td>False</td>\n",
              "      <td>False</td>\n",
              "      <td>False</td>\n",
              "    </tr>\n",
              "    <tr>\n",
              "      <th>4</th>\n",
              "      <td>False</td>\n",
              "      <td>False</td>\n",
              "      <td>False</td>\n",
              "      <td>False</td>\n",
              "      <td>False</td>\n",
              "      <td>False</td>\n",
              "      <td>False</td>\n",
              "      <td>False</td>\n",
              "      <td>False</td>\n",
              "    </tr>\n",
              "    <tr>\n",
              "      <th>...</th>\n",
              "      <td>...</td>\n",
              "      <td>...</td>\n",
              "      <td>...</td>\n",
              "      <td>...</td>\n",
              "      <td>...</td>\n",
              "      <td>...</td>\n",
              "      <td>...</td>\n",
              "      <td>...</td>\n",
              "      <td>...</td>\n",
              "    </tr>\n",
              "    <tr>\n",
              "      <th>1025</th>\n",
              "      <td>False</td>\n",
              "      <td>False</td>\n",
              "      <td>False</td>\n",
              "      <td>False</td>\n",
              "      <td>False</td>\n",
              "      <td>False</td>\n",
              "      <td>False</td>\n",
              "      <td>False</td>\n",
              "      <td>False</td>\n",
              "    </tr>\n",
              "    <tr>\n",
              "      <th>1026</th>\n",
              "      <td>False</td>\n",
              "      <td>False</td>\n",
              "      <td>False</td>\n",
              "      <td>False</td>\n",
              "      <td>False</td>\n",
              "      <td>False</td>\n",
              "      <td>False</td>\n",
              "      <td>False</td>\n",
              "      <td>False</td>\n",
              "    </tr>\n",
              "    <tr>\n",
              "      <th>1027</th>\n",
              "      <td>False</td>\n",
              "      <td>False</td>\n",
              "      <td>False</td>\n",
              "      <td>False</td>\n",
              "      <td>False</td>\n",
              "      <td>False</td>\n",
              "      <td>False</td>\n",
              "      <td>False</td>\n",
              "      <td>False</td>\n",
              "    </tr>\n",
              "    <tr>\n",
              "      <th>1028</th>\n",
              "      <td>False</td>\n",
              "      <td>False</td>\n",
              "      <td>False</td>\n",
              "      <td>False</td>\n",
              "      <td>False</td>\n",
              "      <td>False</td>\n",
              "      <td>False</td>\n",
              "      <td>False</td>\n",
              "      <td>False</td>\n",
              "    </tr>\n",
              "    <tr>\n",
              "      <th>1029</th>\n",
              "      <td>False</td>\n",
              "      <td>False</td>\n",
              "      <td>False</td>\n",
              "      <td>False</td>\n",
              "      <td>False</td>\n",
              "      <td>False</td>\n",
              "      <td>False</td>\n",
              "      <td>False</td>\n",
              "      <td>False</td>\n",
              "    </tr>\n",
              "  </tbody>\n",
              "</table>\n",
              "<p>1030 rows × 9 columns</p>\n",
              "</div>"
            ],
            "text/plain": [
              "      Cement (component 1)(kg in a m^3 mixture)  ...  Concrete compressive strength(MPa, megapascals) \n",
              "0                                         False  ...                                             False\n",
              "1                                         False  ...                                             False\n",
              "2                                         False  ...                                             False\n",
              "3                                         False  ...                                             False\n",
              "4                                         False  ...                                             False\n",
              "...                                         ...  ...                                               ...\n",
              "1025                                      False  ...                                             False\n",
              "1026                                      False  ...                                             False\n",
              "1027                                      False  ...                                             False\n",
              "1028                                      False  ...                                             False\n",
              "1029                                      False  ...                                             False\n",
              "\n",
              "[1030 rows x 9 columns]"
            ]
          },
          "metadata": {
            "tags": []
          },
          "execution_count": 9
        }
      ]
    },
    {
      "cell_type": "code",
      "metadata": {
        "id": "aM01r3FLC_WP"
      },
      "source": [
        "x=data.iloc[0:,0:8]\n",
        "y=data.iloc[0:,8]\n"
      ],
      "execution_count": null,
      "outputs": []
    },
    {
      "cell_type": "code",
      "metadata": {
        "id": "jd1-3bI2DEQc"
      },
      "source": [
        "from sklearn.model_selection import train_test_split\n",
        "train_data,test_data,train_labels,test_labels=train_test_split(x,y,test_size=0.30,random_state=42)"
      ],
      "execution_count": null,
      "outputs": []
    },
    {
      "cell_type": "code",
      "metadata": {
        "id": "8hDeMTH5U_XP"
      },
      "source": [
        "mean=train_data.mean(axis=0)\n",
        "train_data-=mean\n",
        "std=train_data.std(axis=0)\n",
        "train_data/=std\n",
        "test_data-=mean\n",
        "test_data/=std"
      ],
      "execution_count": null,
      "outputs": []
    },
    {
      "cell_type": "code",
      "metadata": {
        "colab": {
          "base_uri": "https://localhost:8080/"
        },
        "id": "t_DEDw1AXFUb",
        "outputId": "aa6dde74-2257-4f8e-b16f-de076e58b5dc"
      },
      "source": [
        "test_data.iloc[4]"
      ],
      "execution_count": null,
      "outputs": [
        {
          "output_type": "execute_result",
          "data": {
            "text/plain": [
              "Cement (component 1)(kg in a m^3 mixture)               -1.286565\n",
              "Blast Furnace Slag (component 2)(kg in a m^3 mixture)   -0.854703\n",
              "Fly Ash (component 3)(kg in a m^3 mixture)               1.993364\n",
              "Water  (component 4)(kg in a m^3 mixture)                0.954404\n",
              "Superplasticizer (component 5)(kg in a m^3 mixture)      0.309809\n",
              "Coarse Aggregate  (component 6)(kg in a m^3 mixture)    -1.908034\n",
              "Fine Aggregate (component 7)(kg in a m^3 mixture)        1.215115\n",
              "Age (day)                                               -0.292777\n",
              "Name: 918, dtype: float64"
            ]
          },
          "metadata": {
            "tags": []
          },
          "execution_count": 37
        }
      ]
    },
    {
      "cell_type": "code",
      "metadata": {
        "id": "Mf9mwObQYJaQ"
      },
      "source": [
        "train_data=np.asarray(train_data)\n",
        "test_data=np.asarray(test_data)"
      ],
      "execution_count": null,
      "outputs": []
    },
    {
      "cell_type": "code",
      "metadata": {
        "colab": {
          "base_uri": "https://localhost:8080/"
        },
        "id": "ZRfsG_JHYNXp",
        "outputId": "a2f01823-5d30-4186-8da7-d583975d0478"
      },
      "source": [
        "train_data[43]"
      ],
      "execution_count": null,
      "outputs": [
        {
          "output_type": "execute_result",
          "data": {
            "text/plain": [
              "array([ 1.52904594, -0.28469113, -0.81634643,  0.85987838, -0.51712886,\n",
              "        1.91826305, -1.97735758, -0.29277718])"
            ]
          },
          "metadata": {
            "tags": []
          },
          "execution_count": 41
        }
      ]
    },
    {
      "cell_type": "code",
      "metadata": {
        "colab": {
          "base_uri": "https://localhost:8080/"
        },
        "id": "nsMkHqy4YQZg",
        "outputId": "e6d08fb5-c356-4eff-ca52-b37365c4314f"
      },
      "source": [
        "test_data[3]"
      ],
      "execution_count": null,
      "outputs": [
        {
          "output_type": "execute_result",
          "data": {
            "text/plain": [
              "array([ 0.72155356,  1.29994103, -0.81634643, -0.79904003,  0.90520489,\n",
              "       -0.3706372 , -0.19766029, -0.69828729])"
            ]
          },
          "metadata": {
            "tags": []
          },
          "execution_count": 42
        }
      ]
    },
    {
      "cell_type": "code",
      "metadata": {
        "id": "EegTLFevYW0H"
      },
      "source": [
        "train_labels=np.asarray(train_labels)\n",
        "test_labels=np.asarray(test_labels)"
      ],
      "execution_count": null,
      "outputs": []
    },
    {
      "cell_type": "code",
      "metadata": {
        "colab": {
          "base_uri": "https://localhost:8080/"
        },
        "id": "x3ydnbpRYfGQ",
        "outputId": "75340fd7-ec98-4016-9082-2ba9c1c24cee"
      },
      "source": [
        "train_labels[23:45]"
      ],
      "execution_count": null,
      "outputs": [
        {
          "output_type": "execute_result",
          "data": {
            "text/plain": [
              "array([36.45, 77.3 , 25.56, 38.46, 23.52, 21.86, 37.81, 19.69, 37.43,\n",
              "       26.05, 38.89, 26.15, 11.48, 33.06, 15.69, 67.31, 28.63, 32.07,\n",
              "       39.45, 39.23, 39.38, 27.34])"
            ]
          },
          "metadata": {
            "tags": []
          },
          "execution_count": 45
        }
      ]
    },
    {
      "cell_type": "code",
      "metadata": {
        "id": "NSo0n4-AYji4"
      },
      "source": [
        "model = models.Sequential()\n",
        "model.add(layers.Dense(64, activation='relu', input_shape=(8,)))\n",
        "model.add(layers.Dense(64, activation='relu'))\n",
        "model.add(layers.Dense(1))"
      ],
      "execution_count": null,
      "outputs": []
    },
    {
      "cell_type": "code",
      "metadata": {
        "id": "NKawacwWZMUG"
      },
      "source": [
        "model.compile(optimizer='rmsprop', loss='mse', metrics=['mae'])"
      ],
      "execution_count": null,
      "outputs": []
    },
    {
      "cell_type": "code",
      "metadata": {
        "colab": {
          "base_uri": "https://localhost:8080/"
        },
        "id": "9zAtYcr0ZO_-",
        "outputId": "ede18292-8e80-4c12-aed9-bad875a888be"
      },
      "source": [
        "history=model.fit(train_data,train_labels,epochs=50,validation_split=0.20)"
      ],
      "execution_count": null,
      "outputs": [
        {
          "output_type": "stream",
          "text": [
            "Epoch 1/50\n",
            "18/18 [==============================] - 0s 8ms/step - loss: 101.2723 - mae: 7.9651 - val_loss: 97.3533 - val_mae: 8.0507\n",
            "Epoch 2/50\n",
            "18/18 [==============================] - 0s 3ms/step - loss: 84.8435 - mae: 7.3418 - val_loss: 94.0136 - val_mae: 7.7904\n",
            "Epoch 3/50\n",
            "18/18 [==============================] - 0s 3ms/step - loss: 88.2190 - mae: 7.4622 - val_loss: 93.3694 - val_mae: 7.7980\n",
            "Epoch 4/50\n",
            "18/18 [==============================] - 0s 2ms/step - loss: 79.5121 - mae: 7.0602 - val_loss: 91.5440 - val_mae: 7.7037\n",
            "Epoch 5/50\n",
            "18/18 [==============================] - 0s 3ms/step - loss: 85.2726 - mae: 7.3335 - val_loss: 88.4805 - val_mae: 7.4841\n",
            "Epoch 6/50\n",
            "18/18 [==============================] - 0s 3ms/step - loss: 83.6873 - mae: 7.1929 - val_loss: 87.1556 - val_mae: 7.4917\n",
            "Epoch 7/50\n",
            "18/18 [==============================] - 0s 3ms/step - loss: 83.9911 - mae: 7.1403 - val_loss: 84.9249 - val_mae: 7.3540\n",
            "Epoch 8/50\n",
            "18/18 [==============================] - 0s 3ms/step - loss: 68.5169 - mae: 6.4320 - val_loss: 83.5455 - val_mae: 7.3051\n",
            "Epoch 9/50\n",
            "18/18 [==============================] - 0s 3ms/step - loss: 71.3227 - mae: 6.6548 - val_loss: 85.3313 - val_mae: 7.4841\n",
            "Epoch 10/50\n",
            "18/18 [==============================] - 0s 3ms/step - loss: 72.2211 - mae: 6.5849 - val_loss: 79.7930 - val_mae: 7.0740\n",
            "Epoch 11/50\n",
            "18/18 [==============================] - 0s 3ms/step - loss: 67.8148 - mae: 6.2987 - val_loss: 80.8678 - val_mae: 7.1992\n",
            "Epoch 12/50\n",
            "18/18 [==============================] - 0s 3ms/step - loss: 72.3152 - mae: 6.5209 - val_loss: 77.1802 - val_mae: 6.9277\n",
            "Epoch 13/50\n",
            "18/18 [==============================] - 0s 3ms/step - loss: 63.8618 - mae: 6.0717 - val_loss: 76.5080 - val_mae: 6.9391\n",
            "Epoch 14/50\n",
            "18/18 [==============================] - 0s 3ms/step - loss: 63.3650 - mae: 6.1508 - val_loss: 75.1143 - val_mae: 6.8492\n",
            "Epoch 15/50\n",
            "18/18 [==============================] - 0s 3ms/step - loss: 63.2319 - mae: 6.1459 - val_loss: 72.5985 - val_mae: 6.6990\n",
            "Epoch 16/50\n",
            "18/18 [==============================] - 0s 3ms/step - loss: 63.9427 - mae: 6.1178 - val_loss: 72.2901 - val_mae: 6.7046\n",
            "Epoch 17/50\n",
            "18/18 [==============================] - 0s 3ms/step - loss: 60.4017 - mae: 5.9389 - val_loss: 69.6723 - val_mae: 6.5078\n",
            "Epoch 18/50\n",
            "18/18 [==============================] - 0s 3ms/step - loss: 64.0504 - mae: 6.0626 - val_loss: 69.8078 - val_mae: 6.5281\n",
            "Epoch 19/50\n",
            "18/18 [==============================] - 0s 3ms/step - loss: 58.9676 - mae: 5.7855 - val_loss: 68.4957 - val_mae: 6.4577\n",
            "Epoch 20/50\n",
            "18/18 [==============================] - 0s 3ms/step - loss: 54.4551 - mae: 5.7028 - val_loss: 66.6682 - val_mae: 6.3524\n",
            "Epoch 21/50\n",
            "18/18 [==============================] - 0s 3ms/step - loss: 56.1825 - mae: 5.5790 - val_loss: 63.9130 - val_mae: 6.1657\n",
            "Epoch 22/50\n",
            "18/18 [==============================] - 0s 3ms/step - loss: 59.5385 - mae: 5.7535 - val_loss: 63.8095 - val_mae: 6.1430\n",
            "Epoch 23/50\n",
            "18/18 [==============================] - 0s 3ms/step - loss: 57.3018 - mae: 5.5410 - val_loss: 63.9401 - val_mae: 6.1854\n",
            "Epoch 24/50\n",
            "18/18 [==============================] - 0s 3ms/step - loss: 50.9676 - mae: 5.3761 - val_loss: 63.7685 - val_mae: 6.1763\n",
            "Epoch 25/50\n",
            "18/18 [==============================] - 0s 3ms/step - loss: 54.6786 - mae: 5.5984 - val_loss: 61.3148 - val_mae: 6.0212\n",
            "Epoch 26/50\n",
            "18/18 [==============================] - 0s 3ms/step - loss: 58.6552 - mae: 5.6911 - val_loss: 61.1790 - val_mae: 6.0075\n",
            "Epoch 27/50\n",
            "18/18 [==============================] - 0s 3ms/step - loss: 49.7975 - mae: 5.3776 - val_loss: 58.3383 - val_mae: 5.8114\n",
            "Epoch 28/50\n",
            "18/18 [==============================] - 0s 3ms/step - loss: 52.9319 - mae: 5.4979 - val_loss: 57.8191 - val_mae: 5.8013\n",
            "Epoch 29/50\n",
            "18/18 [==============================] - 0s 3ms/step - loss: 48.8872 - mae: 5.0472 - val_loss: 55.6883 - val_mae: 5.6846\n",
            "Epoch 30/50\n",
            "18/18 [==============================] - 0s 3ms/step - loss: 47.3574 - mae: 5.1162 - val_loss: 54.6710 - val_mae: 5.6053\n",
            "Epoch 31/50\n",
            "18/18 [==============================] - 0s 3ms/step - loss: 48.4375 - mae: 5.1742 - val_loss: 54.7053 - val_mae: 5.6292\n",
            "Epoch 32/50\n",
            "18/18 [==============================] - 0s 3ms/step - loss: 46.3476 - mae: 5.2035 - val_loss: 55.0640 - val_mae: 5.6745\n",
            "Epoch 33/50\n",
            "18/18 [==============================] - 0s 3ms/step - loss: 42.2413 - mae: 4.9010 - val_loss: 53.3294 - val_mae: 5.5368\n",
            "Epoch 34/50\n",
            "18/18 [==============================] - 0s 3ms/step - loss: 48.2926 - mae: 5.2380 - val_loss: 53.2389 - val_mae: 5.5439\n",
            "Epoch 35/50\n",
            "18/18 [==============================] - 0s 3ms/step - loss: 47.5208 - mae: 5.1270 - val_loss: 52.9577 - val_mae: 5.5430\n",
            "Epoch 36/50\n",
            "18/18 [==============================] - 0s 3ms/step - loss: 45.9843 - mae: 5.1051 - val_loss: 50.7706 - val_mae: 5.4166\n",
            "Epoch 37/50\n",
            "18/18 [==============================] - 0s 3ms/step - loss: 40.7052 - mae: 4.7870 - val_loss: 49.6854 - val_mae: 5.3319\n",
            "Epoch 38/50\n",
            "18/18 [==============================] - 0s 3ms/step - loss: 42.2841 - mae: 4.8830 - val_loss: 54.2877 - val_mae: 5.6209\n",
            "Epoch 39/50\n",
            "18/18 [==============================] - 0s 3ms/step - loss: 39.2704 - mae: 4.7091 - val_loss: 49.3221 - val_mae: 5.3834\n",
            "Epoch 40/50\n",
            "18/18 [==============================] - 0s 3ms/step - loss: 39.2822 - mae: 4.8432 - val_loss: 48.5983 - val_mae: 5.2453\n",
            "Epoch 41/50\n",
            "18/18 [==============================] - 0s 3ms/step - loss: 43.0792 - mae: 4.8921 - val_loss: 47.6982 - val_mae: 5.2289\n",
            "Epoch 42/50\n",
            "18/18 [==============================] - 0s 3ms/step - loss: 38.9580 - mae: 4.6510 - val_loss: 46.7119 - val_mae: 5.1423\n",
            "Epoch 43/50\n",
            "18/18 [==============================] - 0s 3ms/step - loss: 35.7648 - mae: 4.5099 - val_loss: 46.6882 - val_mae: 5.1349\n",
            "Epoch 44/50\n",
            "18/18 [==============================] - 0s 3ms/step - loss: 42.2443 - mae: 4.9034 - val_loss: 47.0472 - val_mae: 5.2132\n",
            "Epoch 45/50\n",
            "18/18 [==============================] - 0s 3ms/step - loss: 35.5156 - mae: 4.5033 - val_loss: 45.4818 - val_mae: 5.1395\n",
            "Epoch 46/50\n",
            "18/18 [==============================] - 0s 3ms/step - loss: 41.5384 - mae: 4.8735 - val_loss: 45.1927 - val_mae: 5.1005\n",
            "Epoch 47/50\n",
            "18/18 [==============================] - 0s 3ms/step - loss: 39.8283 - mae: 4.6491 - val_loss: 46.8859 - val_mae: 5.2488\n",
            "Epoch 48/50\n",
            "18/18 [==============================] - 0s 3ms/step - loss: 35.1206 - mae: 4.4035 - val_loss: 44.6241 - val_mae: 5.0654\n",
            "Epoch 49/50\n",
            "18/18 [==============================] - 0s 3ms/step - loss: 35.7730 - mae: 4.4263 - val_loss: 43.8133 - val_mae: 5.0805\n",
            "Epoch 50/50\n",
            "18/18 [==============================] - 0s 2ms/step - loss: 35.4478 - mae: 4.6037 - val_loss: 45.7878 - val_mae: 5.1066\n"
          ],
          "name": "stdout"
        }
      ]
    },
    {
      "cell_type": "code",
      "metadata": {
        "colab": {
          "base_uri": "https://localhost:8080/"
        },
        "id": "TiQTpwPCZVJN",
        "outputId": "532f6746-7f48-44b9-eb9b-945697612088"
      },
      "source": [
        "test_loss,test_mae=model.evaluate(test_data,test_labels)\n",
        "print(\"test_loss:\",test_loss,\"mae:\",test_mae)\n"
      ],
      "execution_count": null,
      "outputs": [
        {
          "output_type": "stream",
          "text": [
            "10/10 [==============================] - 0s 1ms/step - loss: 35.4269 - mae: 4.6251\n",
            "test_loss: 35.42686462402344 mae: 4.625149250030518\n"
          ],
          "name": "stdout"
        }
      ]
    },
    {
      "cell_type": "code",
      "metadata": {
        "colab": {
          "base_uri": "https://localhost:8080/"
        },
        "id": "uLBZ055RZ7i_",
        "outputId": "6efd3e22-3eec-46c4-b802-784d7eeece88"
      },
      "source": [
        "model.predict(test_data)[0:3]"
      ],
      "execution_count": null,
      "outputs": [
        {
          "output_type": "execute_result",
          "data": {
            "text/plain": [
              "array([[45.144016],\n",
              "       [43.947857],\n",
              "       [66.001274]], dtype=float32)"
            ]
          },
          "metadata": {
            "tags": []
          },
          "execution_count": 54
        }
      ]
    },
    {
      "cell_type": "code",
      "metadata": {
        "id": "g098Dam6d58C"
      },
      "source": [
        " history_dict = history.history"
      ],
      "execution_count": null,
      "outputs": []
    },
    {
      "cell_type": "code",
      "metadata": {
        "colab": {
          "base_uri": "https://localhost:8080/"
        },
        "id": "T8URCWBeeV6u",
        "outputId": "d39f4363-92e1-4834-f9d8-9b038b162337"
      },
      "source": [
        "history_dict.keys()"
      ],
      "execution_count": null,
      "outputs": [
        {
          "output_type": "execute_result",
          "data": {
            "text/plain": [
              "dict_keys(['loss', 'mae', 'val_loss', 'val_mae'])"
            ]
          },
          "metadata": {
            "tags": []
          },
          "execution_count": 56
        }
      ]
    },
    {
      "cell_type": "code",
      "metadata": {
        "colab": {
          "base_uri": "https://localhost:8080/",
          "height": 295
        },
        "id": "7ky8kbqoeWoO",
        "outputId": "bbee25bf-32bf-491d-bc4c-9ddccd1548ae"
      },
      "source": [
        "import matplotlib.pyplot as plt\n",
        "history_dict = history.history\n",
        "loss_values = history_dict['loss'] \n",
        "val_loss_values = history_dict['val_loss'] \n",
        "epochs = range(50)\n",
        "plt.plot(epochs, loss_values, 'bo', label='Training loss')\n",
        "plt.plot(epochs, val_loss_values, 'b', label='Validation loss') \n",
        "plt.title('Training and validation accuracy')\n",
        "plt.xlabel('Epochs')\n",
        "plt.ylabel('Loss') \n",
        "plt.legend()\n",
        "plt.show()"
      ],
      "execution_count": null,
      "outputs": [
        {
          "output_type": "display_data",
          "data": {
            "image/png": "[encoded data removed]",
            "text/plain": [
              "<Figure size 432x288 with 1 Axes>"
            ]
          },
          "metadata": {
            "tags": [],
            "needs_background": "light"
          }
        }
      ]
    },
    {
      "cell_type": "code",
      "metadata": {
        "colab": {
          "base_uri": "https://localhost:8080/",
          "height": 295
        },
        "id": "2_cY18zeebpG",
        "outputId": "a7c2ede5-bc6c-4e89-a6d3-d20e014ef70b"
      },
      "source": [
        "mae = history_dict['mae'] \n",
        "val_mae = history_dict['val_mae'] \n",
        "plt.plot(epochs, mae, 'bo', label='Training mae')\n",
        "plt.plot(epochs, val_mae, 'b', label='Validation mae') \n",
        "plt.title('Training and validation mae')\n",
        "plt.xlabel('Epochs')\n",
        "plt.ylabel('mae') \n",
        "plt.legend()\n",
        "plt.show()"
      ],
      "execution_count": null,
      "outputs": [
        {
          "output_type": "display_data",
          "data": {
            "image/png": "[encoded data removed]",
            "text/plain": [
              "<Figure size 432x288 with 1 Axes>"
            ]
          },
          "metadata": {
            "tags": [],
            "needs_background": "light"
          }
        }
      ]
    },
    {
      "cell_type": "code",
      "metadata": {
        "id": "uz9NGoQAeji9"
      },
      "source": [
        ""
      ],
      "execution_count": null,
      "outputs": []
    }
  ]
}