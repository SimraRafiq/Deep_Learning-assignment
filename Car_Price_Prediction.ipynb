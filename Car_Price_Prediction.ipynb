{
  "nbformat": 4,
  "nbformat_minor": 0,
  "metadata": {
    "colab": {
      "name": "Car_Price_Prediction.ipynb",
      "provenance": [],
      "include_colab_link": true
    },
    "kernelspec": {
      "display_name": "Python 3",
      "name": "python3"
    },
    "language_info": {
      "name": "python"
    }
  },
  "cells": [
    {
      "cell_type": "markdown",
      "metadata": {
        "id": "view-in-github",
        "colab_type": "text"
      },
      "source": [
        "<a href=\"https://colab.research.google.com/github/SimraRafiq/Deep_Learning-assignment/blob/main/Car_Price_Prediction.ipynb\" target=\"_parent\"><img src=\"https://colab.research.google.com/assets/colab-badge.svg\" alt=\"Open In Colab\"/></a>"
      ]
    },
    {
      "cell_type": "code",
      "metadata": {
        "id": "ffyhLHOU_XQx"
      },
      "source": [
        "import pandas as pd\n",
        "import numpy as np\n",
        "import tensorflow as tf\n",
        "from tensorflow.keras import models\n",
        "from tensorflow.keras import layers\n",
        "from tensorflow.keras import optimizers"
      ],
      "execution_count": null,
      "outputs": []
    },
    {
      "cell_type": "code",
      "metadata": {
        "colab": {
          "base_uri": "https://localhost:8080/",
          "height": 275
        },
        "id": "-lwi4ed3bLBC",
        "outputId": "7271ef71-7278-4ed3-a3ac-ca11b67ea63d"
      },
      "source": [
        "cpc_data=pd.read_csv(\"CarPrice_Assignment.csv\")\n",
        "display(cpc_data.head (n=5))\n"
      ],
      "execution_count": null,
      "outputs": [
        {
          "output_type": "display_data",
          "data": {
            "text/html": [
              "<div>\n",
              "<style scoped>\n",
              "    .dataframe tbody tr th:only-of-type {\n",
              "        vertical-align: middle;\n",
              "    }\n",
              "\n",
              "    .dataframe tbody tr th {\n",
              "        vertical-align: top;\n",
              "    }\n",
              "\n",
              "    .dataframe thead th {\n",
              "        text-align: right;\n",
              "    }\n",
              "</style>\n",
              "<table border=\"1\" class=\"dataframe\">\n",
              "  <thead>\n",
              "    <tr style=\"text-align: right;\">\n",
              "      <th></th>\n",
              "      <th>car_ID</th>\n",
              "      <th>symboling</th>\n",
              "      <th>CarName</th>\n",
              "      <th>fueltype</th>\n",
              "      <th>aspiration</th>\n",
              "      <th>doornumber</th>\n",
              "      <th>carbody</th>\n",
              "      <th>drivewheel</th>\n",
              "      <th>enginelocation</th>\n",
              "      <th>wheelbase</th>\n",
              "      <th>carlength</th>\n",
              "      <th>carwidth</th>\n",
              "      <th>carheight</th>\n",
              "      <th>curbweight</th>\n",
              "      <th>enginetype</th>\n",
              "      <th>cylindernumber</th>\n",
              "      <th>enginesize</th>\n",
              "      <th>fuelsystem</th>\n",
              "      <th>boreratio</th>\n",
              "      <th>stroke</th>\n",
              "      <th>compressionratio</th>\n",
              "      <th>horsepower</th>\n",
              "      <th>peakrpm</th>\n",
              "      <th>citympg</th>\n",
              "      <th>highwaympg</th>\n",
              "      <th>price</th>\n",
              "    </tr>\n",
              "  </thead>\n",
              "  <tbody>\n",
              "    <tr>\n",
              "      <th>0</th>\n",
              "      <td>1</td>\n",
              "      <td>3</td>\n",
              "      <td>alfa-romero giulia</td>\n",
              "      <td>gas</td>\n",
              "      <td>std</td>\n",
              "      <td>two</td>\n",
              "      <td>convertible</td>\n",
              "      <td>rwd</td>\n",
              "      <td>front</td>\n",
              "      <td>88.6</td>\n",
              "      <td>168.8</td>\n",
              "      <td>64.1</td>\n",
              "      <td>48.8</td>\n",
              "      <td>2548</td>\n",
              "      <td>dohc</td>\n",
              "      <td>four</td>\n",
              "      <td>130</td>\n",
              "      <td>mpfi</td>\n",
              "      <td>3.47</td>\n",
              "      <td>2.68</td>\n",
              "      <td>9.0</td>\n",
              "      <td>111</td>\n",
              "      <td>5000</td>\n",
              "      <td>21</td>\n",
              "      <td>27</td>\n",
              "      <td>13495.0</td>\n",
              "    </tr>\n",
              "    <tr>\n",
              "      <th>1</th>\n",
              "      <td>2</td>\n",
              "      <td>3</td>\n",
              "      <td>alfa-romero stelvio</td>\n",
              "      <td>gas</td>\n",
              "      <td>std</td>\n",
              "      <td>two</td>\n",
              "      <td>convertible</td>\n",
              "      <td>rwd</td>\n",
              "      <td>front</td>\n",
              "      <td>88.6</td>\n",
              "      <td>168.8</td>\n",
              "      <td>64.1</td>\n",
              "      <td>48.8</td>\n",
              "      <td>2548</td>\n",
              "      <td>dohc</td>\n",
              "      <td>four</td>\n",
              "      <td>130</td>\n",
              "      <td>mpfi</td>\n",
              "      <td>3.47</td>\n",
              "      <td>2.68</td>\n",
              "      <td>9.0</td>\n",
              "      <td>111</td>\n",
              "      <td>5000</td>\n",
              "      <td>21</td>\n",
              "      <td>27</td>\n",
              "      <td>16500.0</td>\n",
              "    </tr>\n",
              "    <tr>\n",
              "      <th>2</th>\n",
              "      <td>3</td>\n",
              "      <td>1</td>\n",
              "      <td>alfa-romero Quadrifoglio</td>\n",
              "      <td>gas</td>\n",
              "      <td>std</td>\n",
              "      <td>two</td>\n",
              "      <td>hatchback</td>\n",
              "      <td>rwd</td>\n",
              "      <td>front</td>\n",
              "      <td>94.5</td>\n",
              "      <td>171.2</td>\n",
              "      <td>65.5</td>\n",
              "      <td>52.4</td>\n",
              "      <td>2823</td>\n",
              "      <td>ohcv</td>\n",
              "      <td>six</td>\n",
              "      <td>152</td>\n",
              "      <td>mpfi</td>\n",
              "      <td>2.68</td>\n",
              "      <td>3.47</td>\n",
              "      <td>9.0</td>\n",
              "      <td>154</td>\n",
              "      <td>5000</td>\n",
              "      <td>19</td>\n",
              "      <td>26</td>\n",
              "      <td>16500.0</td>\n",
              "    </tr>\n",
              "    <tr>\n",
              "      <th>3</th>\n",
              "      <td>4</td>\n",
              "      <td>2</td>\n",
              "      <td>audi 100 ls</td>\n",
              "      <td>gas</td>\n",
              "      <td>std</td>\n",
              "      <td>four</td>\n",
              "      <td>sedan</td>\n",
              "      <td>fwd</td>\n",
              "      <td>front</td>\n",
              "      <td>99.8</td>\n",
              "      <td>176.6</td>\n",
              "      <td>66.2</td>\n",
              "      <td>54.3</td>\n",
              "      <td>2337</td>\n",
              "      <td>ohc</td>\n",
              "      <td>four</td>\n",
              "      <td>109</td>\n",
              "      <td>mpfi</td>\n",
              "      <td>3.19</td>\n",
              "      <td>3.40</td>\n",
              "      <td>10.0</td>\n",
              "      <td>102</td>\n",
              "      <td>5500</td>\n",
              "      <td>24</td>\n",
              "      <td>30</td>\n",
              "      <td>13950.0</td>\n",
              "    </tr>\n",
              "    <tr>\n",
              "      <th>4</th>\n",
              "      <td>5</td>\n",
              "      <td>2</td>\n",
              "      <td>audi 100ls</td>\n",
              "      <td>gas</td>\n",
              "      <td>std</td>\n",
              "      <td>four</td>\n",
              "      <td>sedan</td>\n",
              "      <td>4wd</td>\n",
              "      <td>front</td>\n",
              "      <td>99.4</td>\n",
              "      <td>176.6</td>\n",
              "      <td>66.4</td>\n",
              "      <td>54.3</td>\n",
              "      <td>2824</td>\n",
              "      <td>ohc</td>\n",
              "      <td>five</td>\n",
              "      <td>136</td>\n",
              "      <td>mpfi</td>\n",
              "      <td>3.19</td>\n",
              "      <td>3.40</td>\n",
              "      <td>8.0</td>\n",
              "      <td>115</td>\n",
              "      <td>5500</td>\n",
              "      <td>18</td>\n",
              "      <td>22</td>\n",
              "      <td>17450.0</td>\n",
              "    </tr>\n",
              "  </tbody>\n",
              "</table>\n",
              "</div>"
            ],
            "text/plain": [
              "   car_ID  symboling                   CarName  ... citympg highwaympg    price\n",
              "0       1          3        alfa-romero giulia  ...      21         27  13495.0\n",
              "1       2          3       alfa-romero stelvio  ...      21         27  16500.0\n",
              "2       3          1  alfa-romero Quadrifoglio  ...      19         26  16500.0\n",
              "3       4          2               audi 100 ls  ...      24         30  13950.0\n",
              "4       5          2                audi 100ls  ...      18         22  17450.0\n",
              "\n",
              "[5 rows x 26 columns]"
            ]
          },
          "metadata": {
            "tags": []
          }
        }
      ]
    },
    {
      "cell_type": "code",
      "metadata": {
        "colab": {
          "base_uri": "https://localhost:8080/"
        },
        "id": "GDgJGfYebtuM",
        "outputId": "d4a97d22-fe30-4575-81a7-15db9071eded"
      },
      "source": [
        "cpc_data.shape"
      ],
      "execution_count": null,
      "outputs": [
        {
          "output_type": "execute_result",
          "data": {
            "text/plain": [
              "(205, 26)"
            ]
          },
          "metadata": {
            "tags": []
          },
          "execution_count": 43
        }
      ]
    },
    {
      "cell_type": "code",
      "metadata": {
        "colab": {
          "base_uri": "https://localhost:8080/"
        },
        "id": "ev1cYBwamE0u",
        "outputId": "4f4d0e1c-afee-4986-b0e6-9f8c626d42fb"
      },
      "source": [
        "cpc_data.ndim"
      ],
      "execution_count": null,
      "outputs": [
        {
          "output_type": "execute_result",
          "data": {
            "text/plain": [
              "2"
            ]
          },
          "metadata": {
            "tags": []
          },
          "execution_count": 44
        }
      ]
    },
    {
      "cell_type": "code",
      "metadata": {
        "colab": {
          "base_uri": "https://localhost:8080/"
        },
        "id": "UfhtJtP5b7B8",
        "outputId": "6a09dff5-c616-45ef-b861-fdf1d9806345"
      },
      "source": [
        "cpc_data.iloc[4]"
      ],
      "execution_count": null,
      "outputs": [
        {
          "output_type": "execute_result",
          "data": {
            "text/plain": [
              "car_ID                       5\n",
              "symboling                    2\n",
              "CarName             audi 100ls\n",
              "fueltype                   gas\n",
              "aspiration                 std\n",
              "doornumber                four\n",
              "carbody                  sedan\n",
              "drivewheel                 4wd\n",
              "enginelocation           front\n",
              "wheelbase                 99.4\n",
              "carlength                176.6\n",
              "carwidth                  66.4\n",
              "carheight                 54.3\n",
              "curbweight                2824\n",
              "enginetype                 ohc\n",
              "cylindernumber            five\n",
              "enginesize                 136\n",
              "fuelsystem                mpfi\n",
              "boreratio                 3.19\n",
              "stroke                     3.4\n",
              "compressionratio             8\n",
              "horsepower                 115\n",
              "peakrpm                   5500\n",
              "citympg                     18\n",
              "highwaympg                  22\n",
              "price                    17450\n",
              "Name: 4, dtype: object"
            ]
          },
          "metadata": {
            "tags": []
          },
          "execution_count": 45
        }
      ]
    },
    {
      "cell_type": "code",
      "metadata": {
        "colab": {
          "base_uri": "https://localhost:8080/"
        },
        "id": "syhzshXUb9Js",
        "outputId": "d1db5abe-abe5-44ef-98ee-5f4aad703c54"
      },
      "source": [
        "cpc_data.info()"
      ],
      "execution_count": null,
      "outputs": [
        {
          "output_type": "stream",
          "text": [
            "<class 'pandas.core.frame.DataFrame'>\n",
            "RangeIndex: 205 entries, 0 to 204\n",
            "Data columns (total 26 columns):\n",
            " #   Column            Non-Null Count  Dtype  \n",
            "---  ------            --------------  -----  \n",
            " 0   car_ID            205 non-null    int64  \n",
            " 1   symboling         205 non-null    int64  \n",
            " 2   CarName           205 non-null    object \n",
            " 3   fueltype          205 non-null    object \n",
            " 4   aspiration        205 non-null    object \n",
            " 5   doornumber        205 non-null    object \n",
            " 6   carbody           205 non-null    object \n",
            " 7   drivewheel        205 non-null    object \n",
            " 8   enginelocation    205 non-null    object \n",
            " 9   wheelbase         205 non-null    float64\n",
            " 10  carlength         205 non-null    float64\n",
            " 11  carwidth          205 non-null    float64\n",
            " 12  carheight         205 non-null    float64\n",
            " 13  curbweight        205 non-null    int64  \n",
            " 14  enginetype        205 non-null    object \n",
            " 15  cylindernumber    205 non-null    object \n",
            " 16  enginesize        205 non-null    int64  \n",
            " 17  fuelsystem        205 non-null    object \n",
            " 18  boreratio         205 non-null    float64\n",
            " 19  stroke            205 non-null    float64\n",
            " 20  compressionratio  205 non-null    float64\n",
            " 21  horsepower        205 non-null    int64  \n",
            " 22  peakrpm           205 non-null    int64  \n",
            " 23  citympg           205 non-null    int64  \n",
            " 24  highwaympg        205 non-null    int64  \n",
            " 25  price             205 non-null    float64\n",
            "dtypes: float64(8), int64(8), object(10)\n",
            "memory usage: 41.8+ KB\n"
          ],
          "name": "stdout"
        }
      ]
    },
    {
      "cell_type": "code",
      "metadata": {
        "colab": {
          "base_uri": "https://localhost:8080/"
        },
        "id": "pG8gktNNcIOj",
        "outputId": "a87ad13c-715d-4800-bc51-e1f02b4d1ed4"
      },
      "source": [
        "pd.isnull(cpc_data).sum()"
      ],
      "execution_count": null,
      "outputs": [
        {
          "output_type": "execute_result",
          "data": {
            "text/plain": [
              "car_ID              0\n",
              "symboling           0\n",
              "CarName             0\n",
              "fueltype            0\n",
              "aspiration          0\n",
              "doornumber          0\n",
              "carbody             0\n",
              "drivewheel          0\n",
              "enginelocation      0\n",
              "wheelbase           0\n",
              "carlength           0\n",
              "carwidth            0\n",
              "carheight           0\n",
              "curbweight          0\n",
              "enginetype          0\n",
              "cylindernumber      0\n",
              "enginesize          0\n",
              "fuelsystem          0\n",
              "boreratio           0\n",
              "stroke              0\n",
              "compressionratio    0\n",
              "horsepower          0\n",
              "peakrpm             0\n",
              "citympg             0\n",
              "highwaympg          0\n",
              "price               0\n",
              "dtype: int64"
            ]
          },
          "metadata": {
            "tags": []
          },
          "execution_count": 47
        }
      ]
    },
    {
      "cell_type": "code",
      "metadata": {
        "id": "-w-xJhe6cRx7"
      },
      "source": [
        "from sklearn.preprocessing import LabelEncoder\n",
        "labelencoder = LabelEncoder()\n",
        "cpc_data['fueltype'] = labelencoder.fit_transform(cpc_data['fueltype'])\n",
        "cpc_data['aspiration'] = labelencoder.fit_transform(cpc_data['aspiration'])\n",
        "cpc_data['carbody'] = labelencoder.fit_transform(cpc_data['carbody'])\n",
        "cpc_data['drivewheel'] = labelencoder.fit_transform(cpc_data['drivewheel'])\n",
        "cpc_data['enginelocation'] = labelencoder.fit_transform(cpc_data['enginelocation'])\n",
        "cpc_data['fuelsystem'] = labelencoder.fit_transform(cpc_data['enginelocation'])\n",
        "cpc_data[\"cylindernumber\"]=labelencoder.fit_transform(cpc_data[\"cylindernumber\"])\n",
        "cpc_data['enginetype'] = labelencoder.fit_transform(cpc_data['enginetype'])\n",
        "cpc_data['doornumber'] = labelencoder.fit_transform(cpc_data['doornumber'])\n",
        "cpc_data['doornumber'] = labelencoder.fit_transform(cpc_data['doornumber'])\n",
        "cpc_data['CarName'] = labelencoder.fit_transform(cpc_data['CarName'])"
      ],
      "execution_count": null,
      "outputs": []
    },
    {
      "cell_type": "code",
      "metadata": {
        "colab": {
          "base_uri": "https://localhost:8080/",
          "height": 224
        },
        "id": "_rX_lb3Hesls",
        "outputId": "1f0a45a0-525a-4b80-8a6f-0d3253804184"
      },
      "source": [
        "cpc_data.head()"
      ],
      "execution_count": null,
      "outputs": [
        {
          "output_type": "execute_result",
          "data": {
            "text/html": [
              "<div>\n",
              "<style scoped>\n",
              "    .dataframe tbody tr th:only-of-type {\n",
              "        vertical-align: middle;\n",
              "    }\n",
              "\n",
              "    .dataframe tbody tr th {\n",
              "        vertical-align: top;\n",
              "    }\n",
              "\n",
              "    .dataframe thead th {\n",
              "        text-align: right;\n",
              "    }\n",
              "</style>\n",
              "<table border=\"1\" class=\"dataframe\">\n",
              "  <thead>\n",
              "    <tr style=\"text-align: right;\">\n",
              "      <th></th>\n",
              "      <th>car_ID</th>\n",
              "      <th>symboling</th>\n",
              "      <th>CarName</th>\n",
              "      <th>fueltype</th>\n",
              "      <th>aspiration</th>\n",
              "      <th>doornumber</th>\n",
              "      <th>carbody</th>\n",
              "      <th>drivewheel</th>\n",
              "      <th>enginelocation</th>\n",
              "      <th>wheelbase</th>\n",
              "      <th>carlength</th>\n",
              "      <th>carwidth</th>\n",
              "      <th>carheight</th>\n",
              "      <th>curbweight</th>\n",
              "      <th>enginetype</th>\n",
              "      <th>cylindernumber</th>\n",
              "      <th>enginesize</th>\n",
              "      <th>fuelsystem</th>\n",
              "      <th>boreratio</th>\n",
              "      <th>stroke</th>\n",
              "      <th>compressionratio</th>\n",
              "      <th>horsepower</th>\n",
              "      <th>peakrpm</th>\n",
              "      <th>citympg</th>\n",
              "      <th>highwaympg</th>\n",
              "      <th>price</th>\n",
              "    </tr>\n",
              "  </thead>\n",
              "  <tbody>\n",
              "    <tr>\n",
              "      <th>0</th>\n",
              "      <td>1</td>\n",
              "      <td>3</td>\n",
              "      <td>2</td>\n",
              "      <td>1</td>\n",
              "      <td>0</td>\n",
              "      <td>1</td>\n",
              "      <td>0</td>\n",
              "      <td>2</td>\n",
              "      <td>0</td>\n",
              "      <td>88.6</td>\n",
              "      <td>168.8</td>\n",
              "      <td>64.1</td>\n",
              "      <td>48.8</td>\n",
              "      <td>2548</td>\n",
              "      <td>0</td>\n",
              "      <td>2</td>\n",
              "      <td>130</td>\n",
              "      <td>0</td>\n",
              "      <td>3.47</td>\n",
              "      <td>2.68</td>\n",
              "      <td>9.0</td>\n",
              "      <td>111</td>\n",
              "      <td>5000</td>\n",
              "      <td>21</td>\n",
              "      <td>27</td>\n",
              "      <td>13495.0</td>\n",
              "    </tr>\n",
              "    <tr>\n",
              "      <th>1</th>\n",
              "      <td>2</td>\n",
              "      <td>3</td>\n",
              "      <td>3</td>\n",
              "      <td>1</td>\n",
              "      <td>0</td>\n",
              "      <td>1</td>\n",
              "      <td>0</td>\n",
              "      <td>2</td>\n",
              "      <td>0</td>\n",
              "      <td>88.6</td>\n",
              "      <td>168.8</td>\n",
              "      <td>64.1</td>\n",
              "      <td>48.8</td>\n",
              "      <td>2548</td>\n",
              "      <td>0</td>\n",
              "      <td>2</td>\n",
              "      <td>130</td>\n",
              "      <td>0</td>\n",
              "      <td>3.47</td>\n",
              "      <td>2.68</td>\n",
              "      <td>9.0</td>\n",
              "      <td>111</td>\n",
              "      <td>5000</td>\n",
              "      <td>21</td>\n",
              "      <td>27</td>\n",
              "      <td>16500.0</td>\n",
              "    </tr>\n",
              "    <tr>\n",
              "      <th>2</th>\n",
              "      <td>3</td>\n",
              "      <td>1</td>\n",
              "      <td>1</td>\n",
              "      <td>1</td>\n",
              "      <td>0</td>\n",
              "      <td>1</td>\n",
              "      <td>2</td>\n",
              "      <td>2</td>\n",
              "      <td>0</td>\n",
              "      <td>94.5</td>\n",
              "      <td>171.2</td>\n",
              "      <td>65.5</td>\n",
              "      <td>52.4</td>\n",
              "      <td>2823</td>\n",
              "      <td>5</td>\n",
              "      <td>3</td>\n",
              "      <td>152</td>\n",
              "      <td>0</td>\n",
              "      <td>2.68</td>\n",
              "      <td>3.47</td>\n",
              "      <td>9.0</td>\n",
              "      <td>154</td>\n",
              "      <td>5000</td>\n",
              "      <td>19</td>\n",
              "      <td>26</td>\n",
              "      <td>16500.0</td>\n",
              "    </tr>\n",
              "    <tr>\n",
              "      <th>3</th>\n",
              "      <td>4</td>\n",
              "      <td>2</td>\n",
              "      <td>4</td>\n",
              "      <td>1</td>\n",
              "      <td>0</td>\n",
              "      <td>0</td>\n",
              "      <td>3</td>\n",
              "      <td>1</td>\n",
              "      <td>0</td>\n",
              "      <td>99.8</td>\n",
              "      <td>176.6</td>\n",
              "      <td>66.2</td>\n",
              "      <td>54.3</td>\n",
              "      <td>2337</td>\n",
              "      <td>3</td>\n",
              "      <td>2</td>\n",
              "      <td>109</td>\n",
              "      <td>0</td>\n",
              "      <td>3.19</td>\n",
              "      <td>3.40</td>\n",
              "      <td>10.0</td>\n",
              "      <td>102</td>\n",
              "      <td>5500</td>\n",
              "      <td>24</td>\n",
              "      <td>30</td>\n",
              "      <td>13950.0</td>\n",
              "    </tr>\n",
              "    <tr>\n",
              "      <th>4</th>\n",
              "      <td>5</td>\n",
              "      <td>2</td>\n",
              "      <td>5</td>\n",
              "      <td>1</td>\n",
              "      <td>0</td>\n",
              "      <td>0</td>\n",
              "      <td>3</td>\n",
              "      <td>0</td>\n",
              "      <td>0</td>\n",
              "      <td>99.4</td>\n",
              "      <td>176.6</td>\n",
              "      <td>66.4</td>\n",
              "      <td>54.3</td>\n",
              "      <td>2824</td>\n",
              "      <td>3</td>\n",
              "      <td>1</td>\n",
              "      <td>136</td>\n",
              "      <td>0</td>\n",
              "      <td>3.19</td>\n",
              "      <td>3.40</td>\n",
              "      <td>8.0</td>\n",
              "      <td>115</td>\n",
              "      <td>5500</td>\n",
              "      <td>18</td>\n",
              "      <td>22</td>\n",
              "      <td>17450.0</td>\n",
              "    </tr>\n",
              "  </tbody>\n",
              "</table>\n",
              "</div>"
            ],
            "text/plain": [
              "   car_ID  symboling  CarName  fueltype  ...  peakrpm  citympg  highwaympg    price\n",
              "0       1          3        2         1  ...     5000       21          27  13495.0\n",
              "1       2          3        3         1  ...     5000       21          27  16500.0\n",
              "2       3          1        1         1  ...     5000       19          26  16500.0\n",
              "3       4          2        4         1  ...     5500       24          30  13950.0\n",
              "4       5          2        5         1  ...     5500       18          22  17450.0\n",
              "\n",
              "[5 rows x 26 columns]"
            ]
          },
          "metadata": {
            "tags": []
          },
          "execution_count": 49
        }
      ]
    },
    {
      "cell_type": "code",
      "metadata": {
        "colab": {
          "base_uri": "https://localhost:8080/"
        },
        "id": "JmEpVudJq_9f",
        "outputId": "9fc28547-8ba0-4ce5-f9cd-7821c718ed80"
      },
      "source": [
        "cpc_data.info()"
      ],
      "execution_count": null,
      "outputs": [
        {
          "output_type": "stream",
          "text": [
            "<class 'pandas.core.frame.DataFrame'>\n",
            "RangeIndex: 205 entries, 0 to 204\n",
            "Data columns (total 26 columns):\n",
            " #   Column            Non-Null Count  Dtype  \n",
            "---  ------            --------------  -----  \n",
            " 0   car_ID            205 non-null    int64  \n",
            " 1   symboling         205 non-null    int64  \n",
            " 2   CarName           205 non-null    int64  \n",
            " 3   fueltype          205 non-null    int64  \n",
            " 4   aspiration        205 non-null    int64  \n",
            " 5   doornumber        205 non-null    int64  \n",
            " 6   carbody           205 non-null    int64  \n",
            " 7   drivewheel        205 non-null    int64  \n",
            " 8   enginelocation    205 non-null    int64  \n",
            " 9   wheelbase         205 non-null    float64\n",
            " 10  carlength         205 non-null    float64\n",
            " 11  carwidth          205 non-null    float64\n",
            " 12  carheight         205 non-null    float64\n",
            " 13  curbweight        205 non-null    int64  \n",
            " 14  enginetype        205 non-null    int64  \n",
            " 15  cylindernumber    205 non-null    int64  \n",
            " 16  enginesize        205 non-null    int64  \n",
            " 17  fuelsystem        205 non-null    int64  \n",
            " 18  boreratio         205 non-null    float64\n",
            " 19  stroke            205 non-null    float64\n",
            " 20  compressionratio  205 non-null    float64\n",
            " 21  horsepower        205 non-null    int64  \n",
            " 22  peakrpm           205 non-null    int64  \n",
            " 23  citympg           205 non-null    int64  \n",
            " 24  highwaympg        205 non-null    int64  \n",
            " 25  price             205 non-null    float64\n",
            "dtypes: float64(8), int64(18)\n",
            "memory usage: 41.8 KB\n"
          ],
          "name": "stdout"
        }
      ]
    },
    {
      "cell_type": "code",
      "metadata": {
        "colab": {
          "base_uri": "https://localhost:8080/"
        },
        "id": "HOxOeA6beyve",
        "outputId": "c049010a-ec92-439f-fa37-15d646d9c47c"
      },
      "source": [
        "cpc_data[\"carheight\"]"
      ],
      "execution_count": null,
      "outputs": [
        {
          "output_type": "execute_result",
          "data": {
            "text/plain": [
              "0      48.8\n",
              "1      48.8\n",
              "2      52.4\n",
              "3      54.3\n",
              "4      54.3\n",
              "       ... \n",
              "200    55.5\n",
              "201    55.5\n",
              "202    55.5\n",
              "203    55.5\n",
              "204    55.5\n",
              "Name: carheight, Length: 205, dtype: float64"
            ]
          },
          "metadata": {
            "tags": []
          },
          "execution_count": 51
        }
      ]
    },
    {
      "cell_type": "code",
      "metadata": {
        "id": "NxbvD7fuf95L"
      },
      "source": [
        "x=cpc_data.loc[0:,\"car_ID\":\"highwaympg\"]\n",
        "y=cpc_data.loc[0:,\"price\"]\n"
      ],
      "execution_count": null,
      "outputs": []
    },
    {
      "cell_type": "code",
      "metadata": {
        "id": "F-CjoSvfqjxe"
      },
      "source": [
        "from sklearn.model_selection import train_test_split\n",
        "train_data,test_data,train_labels,test_labels=train_test_split(x,y,test_size=0.30,random_state=42)"
      ],
      "execution_count": null,
      "outputs": []
    },
    {
      "cell_type": "code",
      "metadata": {
        "id": "yr0GVTgcq4hN"
      },
      "source": [
        "train_data=np.asarray(train_data).astype(\"float32\")\n",
        "test_data=np.asarray(test_data).astype(\"float32\")\n"
      ],
      "execution_count": null,
      "outputs": []
    },
    {
      "cell_type": "code",
      "metadata": {
        "colab": {
          "base_uri": "https://localhost:8080/"
        },
        "id": "mWJTG33urMes",
        "outputId": "688e7d17-a754-4f00-be37-0af12fea6bfb"
      },
      "source": [
        "test_data[5]"
      ],
      "execution_count": null,
      "outputs": [
        {
          "output_type": "execute_result",
          "data": {
            "text/plain": [
              "array([9.600e+01, 1.000e+00, 7.400e+01, 1.000e+00, 0.000e+00, 1.000e+00,\n",
              "       2.000e+00, 1.000e+00, 0.000e+00, 9.450e+01, 1.656e+02, 6.380e+01,\n",
              "       5.330e+01, 2.028e+03, 3.000e+00, 2.000e+00, 9.700e+01, 0.000e+00,\n",
              "       3.150e+00, 3.290e+00, 9.400e+00, 6.900e+01, 5.200e+03, 3.100e+01,\n",
              "       3.700e+01], dtype=float32)"
            ]
          },
          "metadata": {
            "tags": []
          },
          "execution_count": 55
        }
      ]
    },
    {
      "cell_type": "code",
      "metadata": {
        "id": "JW53IugPq9Ot"
      },
      "source": [
        "train_labels=np.asarray(train_labels).astype(\"float32\")\n",
        "test_labels=np.asarray(test_labels).astype(\"float32\")"
      ],
      "execution_count": null,
      "outputs": []
    },
    {
      "cell_type": "code",
      "metadata": {
        "colab": {
          "base_uri": "https://localhost:8080/"
        },
        "id": "6HlWV1B8rJ30",
        "outputId": "48d3e702-304f-43ab-8256-c10008036468"
      },
      "source": [
        "\n",
        "test_labels"
      ],
      "execution_count": null,
      "outputs": [
        {
          "output_type": "execute_result",
          "data": {
            "text/plain": [
              "array([30760.   , 17859.168,  9549.   , 11850.   , 28248.   ,  7799.   ,\n",
              "        7788.   ,  9258.   , 10198.   ,  7775.   , 13295.   ,  8238.   ,\n",
              "       18280.   ,  9988.   , 40960.   ,  6488.   ,  5151.   , 12629.   ,\n",
              "        8189.   ,  9960.   ,  8495.   , 13499.   ,  8249.   ,  6479.   ,\n",
              "        6692.   , 41315.   ,  9639.   , 13415.   ,  7999.   , 12940.   ,\n",
              "       25552.   ,  6229.   ,  7898.   , 21485.   ,  7689.   , 28176.   ,\n",
              "       11259.   , 10945.   ,  8916.5  , 14489.   ,  7463.   , 18344.   ,\n",
              "       15580.   ,  6918.   ,  7499.   ,  9095.   ,  6229.   ,  7053.   ,\n",
              "       16900.   , 12964.   ,  6295.   , 16558.   ,  7099.   ,  8948.   ,\n",
              "        7349.   , 15250.   ,  8449.   , 11845.   , 37028.   ,  5389.   ,\n",
              "        9233.   , 17199.   ], dtype=float32)"
            ]
          },
          "metadata": {
            "tags": []
          },
          "execution_count": 57
        }
      ]
    },
    {
      "cell_type": "code",
      "metadata": {
        "id": "k6bR_SHosAGr"
      },
      "source": [
        "model = models.Sequential()\n",
        "model.add(layers.Dense(64, activation='relu', input_shape=(25,)))\n",
        "model.add(layers.Dense(64, activation='relu'))\n",
        "model.add(layers.Dense(1))"
      ],
      "execution_count": null,
      "outputs": []
    },
    {
      "cell_type": "code",
      "metadata": {
        "id": "epPUWwojuSdH"
      },
      "source": [
        "model.compile(optimizer='rmsprop', loss='mse', metrics=['mae'])"
      ],
      "execution_count": null,
      "outputs": []
    },
    {
      "cell_type": "code",
      "metadata": {
        "colab": {
          "base_uri": "https://localhost:8080/"
        },
        "id": "dm5AW1QJu1Fd",
        "outputId": "ecff4b88-6417-4885-ffb6-0c1b00773b2d"
      },
      "source": [
        "history=model.fit(train_data,train_labels,epochs=50,validation_split=0.20)\n"
      ],
      "execution_count": null,
      "outputs": [
        {
          "output_type": "stream",
          "text": [
            "Epoch 1/50\n",
            "4/4 [==============================] - 0s 35ms/step - loss: 30274354.0000 - mae: 4203.6123 - val_loss: 50786376.0000 - val_mae: 4887.6357\n",
            "Epoch 2/50\n",
            "4/4 [==============================] - 0s 17ms/step - loss: 29754454.0000 - mae: 4083.1853 - val_loss: 50407972.0000 - val_mae: 4807.1836\n",
            "Epoch 3/50\n",
            "4/4 [==============================] - 0s 16ms/step - loss: 29490988.0000 - mae: 4064.2986 - val_loss: 50995208.0000 - val_mae: 4679.1035\n",
            "Epoch 4/50\n",
            "4/4 [==============================] - 0s 18ms/step - loss: 29360542.0000 - mae: 3943.7683 - val_loss: 48500392.0000 - val_mae: 4784.4575\n",
            "Epoch 5/50\n",
            "4/4 [==============================] - 0s 18ms/step - loss: 28918510.0000 - mae: 4077.2195 - val_loss: 48037576.0000 - val_mae: 4709.4756\n",
            "Epoch 6/50\n",
            "4/4 [==============================] - 0s 17ms/step - loss: 28497986.0000 - mae: 3892.4102 - val_loss: 46631928.0000 - val_mae: 4821.3501\n",
            "Epoch 7/50\n",
            "4/4 [==============================] - 0s 17ms/step - loss: 28173672.0000 - mae: 4066.7515 - val_loss: 46467972.0000 - val_mae: 4665.3140\n",
            "Epoch 8/50\n",
            "4/4 [==============================] - 0s 27ms/step - loss: 27566668.0000 - mae: 3925.2412 - val_loss: 46300580.0000 - val_mae: 4550.2925\n",
            "Epoch 9/50\n",
            "4/4 [==============================] - 0s 18ms/step - loss: 27122180.0000 - mae: 3788.0906 - val_loss: 44409352.0000 - val_mae: 4651.8027\n",
            "Epoch 10/50\n",
            "4/4 [==============================] - 0s 18ms/step - loss: 26768774.0000 - mae: 3939.4751 - val_loss: 44280764.0000 - val_mae: 4445.7939\n",
            "Epoch 11/50\n",
            "4/4 [==============================] - 0s 18ms/step - loss: 26567206.0000 - mae: 3830.5894 - val_loss: 44814628.0000 - val_mae: 4312.4346\n",
            "Epoch 12/50\n",
            "4/4 [==============================] - 0s 19ms/step - loss: 26537330.0000 - mae: 3584.1233 - val_loss: 42900632.0000 - val_mae: 4413.2471\n",
            "Epoch 13/50\n",
            "4/4 [==============================] - 0s 19ms/step - loss: 25605456.0000 - mae: 3691.5383 - val_loss: 41682328.0000 - val_mae: 4483.3403\n",
            "Epoch 14/50\n",
            "4/4 [==============================] - 0s 18ms/step - loss: 25507948.0000 - mae: 3807.9438 - val_loss: 42113608.0000 - val_mae: 4241.7617\n",
            "Epoch 15/50\n",
            "4/4 [==============================] - 0s 19ms/step - loss: 25943844.0000 - mae: 3615.7017 - val_loss: 41167292.0000 - val_mae: 4264.5864\n",
            "Epoch 16/50\n",
            "4/4 [==============================] - 0s 20ms/step - loss: 24611268.0000 - mae: 3611.0166 - val_loss: 40123932.0000 - val_mae: 4322.1045\n",
            "Epoch 17/50\n",
            "4/4 [==============================] - 0s 18ms/step - loss: 24449708.0000 - mae: 3624.2336 - val_loss: 39266736.0000 - val_mae: 4378.6758\n",
            "Epoch 18/50\n",
            "4/4 [==============================] - 0s 20ms/step - loss: 24348164.0000 - mae: 3619.7766 - val_loss: 38680532.0000 - val_mae: 4302.9854\n",
            "Epoch 19/50\n",
            "4/4 [==============================] - 0s 17ms/step - loss: 23965752.0000 - mae: 3636.4688 - val_loss: 38307716.0000 - val_mae: 4152.7329\n",
            "Epoch 20/50\n",
            "4/4 [==============================] - 0s 16ms/step - loss: 23376470.0000 - mae: 3554.5151 - val_loss: 38051524.0000 - val_mae: 4027.7854\n",
            "Epoch 21/50\n",
            "4/4 [==============================] - 0s 19ms/step - loss: 23765134.0000 - mae: 3597.0449 - val_loss: 38714908.0000 - val_mae: 3864.8992\n",
            "Epoch 22/50\n",
            "4/4 [==============================] - 0s 18ms/step - loss: 22966388.0000 - mae: 3379.8772 - val_loss: 36839576.0000 - val_mae: 3982.8811\n",
            "Epoch 23/50\n",
            "4/4 [==============================] - 0s 19ms/step - loss: 22535356.0000 - mae: 3442.1770 - val_loss: 36628888.0000 - val_mae: 3867.2073\n",
            "Epoch 24/50\n",
            "4/4 [==============================] - 0s 22ms/step - loss: 22432808.0000 - mae: 3400.2402 - val_loss: 34746640.0000 - val_mae: 4054.0986\n",
            "Epoch 25/50\n",
            "4/4 [==============================] - 0s 21ms/step - loss: 22391296.0000 - mae: 3458.5115 - val_loss: 34726416.0000 - val_mae: 3876.8115\n",
            "Epoch 26/50\n",
            "4/4 [==============================] - 0s 19ms/step - loss: 21938120.0000 - mae: 3323.4136 - val_loss: 34165804.0000 - val_mae: 3837.8794\n",
            "Epoch 27/50\n",
            "4/4 [==============================] - 0s 20ms/step - loss: 21680742.0000 - mae: 3276.0215 - val_loss: 32962060.0000 - val_mae: 4046.7366\n",
            "Epoch 28/50\n",
            "4/4 [==============================] - 0s 17ms/step - loss: 21749868.0000 - mae: 3433.3979 - val_loss: 33575684.0000 - val_mae: 3715.2168\n",
            "Epoch 29/50\n",
            "4/4 [==============================] - 0s 22ms/step - loss: 21773788.0000 - mae: 3264.5110 - val_loss: 32112452.0000 - val_mae: 3943.0576\n",
            "Epoch 30/50\n",
            "4/4 [==============================] - 0s 18ms/step - loss: 21111716.0000 - mae: 3350.0039 - val_loss: 32964926.0000 - val_mae: 3627.8015\n",
            "Epoch 31/50\n",
            "4/4 [==============================] - 0s 18ms/step - loss: 20712960.0000 - mae: 3170.4678 - val_loss: 31706538.0000 - val_mae: 3760.9929\n",
            "Epoch 32/50\n",
            "4/4 [==============================] - 0s 22ms/step - loss: 20645152.0000 - mae: 3233.1594 - val_loss: 31132502.0000 - val_mae: 3786.3672\n",
            "Epoch 33/50\n",
            "4/4 [==============================] - 0s 18ms/step - loss: 20700762.0000 - mae: 3271.8215 - val_loss: 31719928.0000 - val_mae: 3547.7476\n",
            "Epoch 34/50\n",
            "4/4 [==============================] - 0s 21ms/step - loss: 20422634.0000 - mae: 3144.3240 - val_loss: 30784470.0000 - val_mae: 3590.1335\n",
            "Epoch 35/50\n",
            "4/4 [==============================] - 0s 17ms/step - loss: 20401332.0000 - mae: 3108.7280 - val_loss: 29573136.0000 - val_mae: 3878.2622\n",
            "Epoch 36/50\n",
            "4/4 [==============================] - 0s 20ms/step - loss: 21037400.0000 - mae: 3265.9314 - val_loss: 29682352.0000 - val_mae: 3639.4797\n",
            "Epoch 37/50\n",
            "4/4 [==============================] - 0s 20ms/step - loss: 19845716.0000 - mae: 3168.1633 - val_loss: 30262370.0000 - val_mae: 3449.6091\n",
            "Epoch 38/50\n",
            "4/4 [==============================] - 0s 22ms/step - loss: 19665994.0000 - mae: 3061.2549 - val_loss: 29111978.0000 - val_mae: 3559.9170\n",
            "Epoch 39/50\n",
            "4/4 [==============================] - 0s 22ms/step - loss: 19623114.0000 - mae: 3078.7329 - val_loss: 28290508.0000 - val_mae: 3814.4160\n",
            "Epoch 40/50\n",
            "4/4 [==============================] - 0s 20ms/step - loss: 19781246.0000 - mae: 3256.5615 - val_loss: 28703912.0000 - val_mae: 3448.2056\n",
            "Epoch 41/50\n",
            "4/4 [==============================] - 0s 20ms/step - loss: 19736600.0000 - mae: 3087.6204 - val_loss: 28669006.0000 - val_mae: 3389.3262\n",
            "Epoch 42/50\n",
            "4/4 [==============================] - 0s 17ms/step - loss: 19427934.0000 - mae: 3117.7119 - val_loss: 29749774.0000 - val_mae: 3267.2263\n",
            "Epoch 43/50\n",
            "4/4 [==============================] - 0s 21ms/step - loss: 20165590.0000 - mae: 2905.8740 - val_loss: 27539310.0000 - val_mae: 3548.9709\n",
            "Epoch 44/50\n",
            "4/4 [==============================] - 0s 19ms/step - loss: 19182540.0000 - mae: 3099.6553 - val_loss: 28481962.0000 - val_mae: 3296.4646\n",
            "Epoch 45/50\n",
            "4/4 [==============================] - 0s 20ms/step - loss: 19446042.0000 - mae: 2965.0488 - val_loss: 26971260.0000 - val_mae: 3566.3782\n",
            "Epoch 46/50\n",
            "4/4 [==============================] - 0s 23ms/step - loss: 19238912.0000 - mae: 3042.7068 - val_loss: 26637496.0000 - val_mae: 3641.3557\n",
            "Epoch 47/50\n",
            "4/4 [==============================] - 0s 21ms/step - loss: 19070666.0000 - mae: 3081.6250 - val_loss: 26450372.0000 - val_mae: 3537.2698\n",
            "Epoch 48/50\n",
            "4/4 [==============================] - 0s 19ms/step - loss: 19504860.0000 - mae: 3121.4709 - val_loss: 26423814.0000 - val_mae: 3406.2954\n",
            "Epoch 49/50\n",
            "4/4 [==============================] - 0s 19ms/step - loss: 19028440.0000 - mae: 2994.2410 - val_loss: 26170914.0000 - val_mae: 3400.2832\n",
            "Epoch 50/50\n",
            "4/4 [==============================] - 0s 19ms/step - loss: 18713576.0000 - mae: 3035.6357 - val_loss: 26853208.0000 - val_mae: 3226.0076\n"
          ],
          "name": "stdout"
        }
      ]
    },
    {
      "cell_type": "code",
      "metadata": {
        "colab": {
          "base_uri": "https://localhost:8080/"
        },
        "id": "oYv3Ynp3vBtV",
        "outputId": "6587792e-6ff3-49d3-eec4-bd8786d7025c"
      },
      "source": [
        "test_loss,test_mae=model.evaluate(test_data,test_labels)\n",
        "print(\"test_loss:\",test_loss,\"mae:\",test_mae)\n"
      ],
      "execution_count": null,
      "outputs": [
        {
          "output_type": "stream",
          "text": [
            "2/2 [==============================] - 0s 5ms/step - loss: 25169078.0000 - mae: 2985.1274\n",
            "test_loss: 25169078.0 mae: 2985.12744140625\n"
          ],
          "name": "stdout"
        }
      ]
    },
    {
      "cell_type": "code",
      "metadata": {
        "colab": {
          "base_uri": "https://localhost:8080/"
        },
        "id": "FGqw2DV1wbxR",
        "outputId": "a2b691f5-6c9f-4845-caf8-f64b9d9b71e3"
      },
      "source": [
        "model.predict(test_data)[5]"
      ],
      "execution_count": null,
      "outputs": [
        {
          "output_type": "execute_result",
          "data": {
            "text/plain": [
              "array([8096.175], dtype=float32)"
            ]
          },
          "metadata": {
            "tags": []
          },
          "execution_count": 68
        }
      ]
    },
    {
      "cell_type": "code",
      "metadata": {
        "colab": {
          "base_uri": "https://localhost:8080/"
        },
        "id": "9dm53wSy2L8x",
        "outputId": "dd5816d5-c9c7-4bd5-9e8d-197a968735f0"
      },
      "source": [
        "model.predict(test_data)[1:6]"
      ],
      "execution_count": null,
      "outputs": [
        {
          "output_type": "execute_result",
          "data": {
            "text/plain": [
              "array([[17651.564],\n",
              "       [10698.458],\n",
              "       [13534.761],\n",
              "       [24923.938],\n",
              "       [ 8096.175]], dtype=float32)"
            ]
          },
          "metadata": {
            "tags": []
          },
          "execution_count": 69
        }
      ]
    },
    {
      "cell_type": "code",
      "metadata": {
        "colab": {
          "base_uri": "https://localhost:8080/",
          "height": 295
        },
        "id": "Dx7OIq152VpV",
        "outputId": "86e25475-84c3-4186-eeb6-3fec8cc7a262"
      },
      "source": [
        "import matplotlib.pyplot as plt\n",
        "history_dict = history.history\n",
        "loss_values = history_dict['loss'] \n",
        "val_loss_values = history_dict['val_loss'] \n",
        "epochs = range(50)\n",
        "plt.plot(epochs, loss_values, 'bo', label='Training loss')\n",
        "plt.plot(epochs, val_loss_values, 'b', label='Validation loss') \n",
        "plt.title('Training and validation accuracy')\n",
        "plt.xlabel('Epochs')\n",
        "plt.ylabel('Loss') \n",
        "plt.legend()\n",
        "plt.show()"
      ],
      "execution_count": null,
      "outputs": [
        {
          "output_type": "display_data",
          "data": {
            "image/png": "[encoded data removed]",
            "text/plain": [
              "<Figure size 432x288 with 1 Axes>"
            ]
          },
          "metadata": {
            "tags": [],
            "needs_background": "light"
          }
        }
      ]
    },
    {
      "cell_type": "code",
      "metadata": {
        "id": "Ihite2rc20eT",
        "colab": {
          "base_uri": "https://localhost:8080/",
          "height": 295
        },
        "outputId": "c2ab981f-8e4e-43e0-961d-5e802222e333"
      },
      "source": [
        "mae = history_dict['mae'] \n",
        "val_mae = history_dict['val_mae'] \n",
        "plt.plot(epochs, mae, 'bo', label='Training mae')\n",
        "plt.plot(epochs, val_mae, 'b', label='Validation mae') \n",
        "plt.title('Training and validation mae')\n",
        "plt.xlabel('Epochs')\n",
        "plt.ylabel('mae') \n",
        "plt.legend()\n",
        "plt.show()"
      ],
      "execution_count": null,
      "outputs": [
        {
          "output_type": "display_data",
          "data": {
            "image/png": "[encoded data removed]",
            "text/plain": [
              "<Figure size 432x288 with 1 Axes>"
            ]
          },
          "metadata": {
            "tags": [],
            "needs_background": "light"
          }
        }
      ]
    },
    {
      "cell_type": "code",
      "metadata": {
        "id": "KZhQO5Xd9GsE"
      },
      "source": [
        ""
      ],
      "execution_count": null,
      "outputs": []
    }
  ]
}